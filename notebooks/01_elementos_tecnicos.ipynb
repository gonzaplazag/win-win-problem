{
 "cells": [
  {
   "cell_type": "markdown",
   "metadata": {},
   "source": [
    "# A. Cómputo de probabilidad de un evento. Caso elemental equiprobable"
   ]
  },
  {
   "cell_type": "code",
   "execution_count": 42,
   "metadata": {},
   "outputs": [
    {
     "data": {
      "text/plain": [
       "{'H', 'T'}"
      ]
     },
     "execution_count": 42,
     "metadata": {},
     "output_type": "execute_result"
    }
   ],
   "source": [
    "# 1. Definicion de sample spaces\n",
    "# Definir en sets\n",
    "sample_space = {'H','T'}\n",
    "sample_space"
   ]
  },
  {
   "cell_type": "code",
   "execution_count": 43,
   "metadata": {},
   "outputs": [
    {
     "data": {
      "text/plain": [
       "(False, True)"
      ]
     },
     "execution_count": 43,
     "metadata": {},
     "output_type": "execute_result"
    }
   ],
   "source": [
    "# 2. Definición de eventos \n",
    "\n",
    "# se define un event-condition-function, una función que, dado un resultado\n",
    "# chequea si este pertenece al evento. f(outcome) -> [True, False]\n",
    "\n",
    "def is_heads_or_tails(outcome): return outcome in {'Heads', 'Tails'}\n",
    "def is_neither(outcome): return not is_heads_or_tails(outcome)\n",
    "def is_heads(outcome): return outcome == 'Heads'\n",
    "def is_tails(outcome): return outcome == 'Tails'\n",
    "\n",
    "(is_heads('o'), is_heads('Heads'))"
   ]
  },
  {
   "cell_type": "code",
   "execution_count": 47,
   "metadata": {},
   "outputs": [
    {
     "data": {
      "text/plain": [
       "{'Heads', 'Tails'}"
      ]
     },
     "execution_count": 47,
     "metadata": {},
     "output_type": "execute_result"
    }
   ],
   "source": [
    "# 3. Se define función generadora de eventos\n",
    "\n",
    "# es una función que, dado el sample space y una event-condition-function, \n",
    "# genera un set de resultados pertenecientes al evento, o sea, el evento en cuanto tal.\n",
    "\n",
    "def get_matching_event(event_condition, sample_space):\n",
    "    return set([outcome for outcome in sample_space if event_condition(outcome)])\n",
    "\n",
    "get_matching_event(is_heads_or_tails, sample_space)"
   ]
  },
  {
   "cell_type": "code",
   "execution_count": 50,
   "metadata": {},
   "outputs": [
    {
     "name": "stdout",
     "output_type": "stream",
     "text": [
      "Event Condition: is_heads_or_tails\n",
      "Event: {'Tails', 'Heads'}\n",
      "\n",
      "Event Condition: is_neither\n",
      "Event: set()\n",
      "\n",
      "Event Condition: is_heads\n",
      "Event: {'Heads'}\n",
      "\n",
      "Event Condition: is_tails\n",
      "Event: {'Tails'}\n",
      "\n"
     ]
    }
   ],
   "source": [
    "event_conditions = [is_heads_or_tails,is_neither,is_heads,is_tails]\n",
    "sample_space = {'Heads','Tails'}\n",
    "\n",
    "for event_condition in event_conditions:\n",
    "    print('Event Condition: {}'.format(event_condition.__name__))\n",
    "    event = get_matching_event(event_condition = event_condition, sample_space=sample_space)\n",
    "    print(f'Event: {event}\\n')"
   ]
  },
  {
   "cell_type": "code",
   "execution_count": 46,
   "metadata": {},
   "outputs": [],
   "source": [
    "# 3. Definición de función de cálculo de probabilidad para un evento\n",
    "\n",
    "# dado la event condition function, devuelve la probabilidad de ocurencia del evento. Para casos equiprobables.\n",
    "\n",
    "def compute_prob(event_condition, sample_space):\n",
    "    event = get_matching_event(event_condition, sample_space)\n",
    "    return len(event)/len(sample_space)"
   ]
  },
  {
   "cell_type": "code",
   "execution_count": 41,
   "metadata": {},
   "outputs": [
    {
     "name": "stdout",
     "output_type": "stream",
     "text": [
      "Event Condition: is_heads_or_tails\n",
      "1.0\n",
      "Event Condition: is_neither\n",
      "0.0\n",
      "Event Condition: is_heads\n",
      "0.5\n",
      "Event Condition: is_tails\n",
      "0.5\n"
     ]
    }
   ],
   "source": [
    "for event_condition in event_conditions:\n",
    "    print('Event Condition: {}'.format(event_condition.__name__))\n",
    "    prob = compute_prob(event_condition, sample_space)\n",
    "    print(prob)"
   ]
  },
  {
   "cell_type": "markdown",
   "metadata": {},
   "source": [
    "# B. Cómputo de probabilidad de un evento. Caso no equiprobable"
   ]
  },
  {
   "cell_type": "code",
   "execution_count": 64,
   "metadata": {},
   "outputs": [
    {
     "data": {
      "text/plain": [
       "{'Heads', 'Tails'}"
      ]
     },
     "execution_count": 64,
     "metadata": {},
     "output_type": "execute_result"
    }
   ],
   "source": [
    "# 1. Definición de un sample space no balanceado.\n",
    "\n",
    "sample_space_weighted = {'Heads' : 4, 'Tails' : 1}\n",
    "sample_space_size = sum(sample_space_weighted.values())\n",
    "\n",
    "# dado que en python se itera sobre las key de un diccionario, esta función está ok\n",
    "\n",
    "get_matching_event(is_heads_or_tails, sample_space_weighted)"
   ]
  },
  {
   "cell_type": "code",
   "execution_count": 65,
   "metadata": {},
   "outputs": [
    {
     "name": "stdout",
     "output_type": "stream",
     "text": [
      "{'Tails', 'Heads'} 5\n"
     ]
    }
   ],
   "source": [
    "# puedo definir eventos y su tamaño\n",
    "event = get_matching_event(is_heads_or_tails, sample_space_weighted)\n",
    "event_size = sum([sample_space_weighted[outcome] for outcome in event])\n",
    "print(event, event_size)"
   ]
  },
  {
   "cell_type": "code",
   "execution_count": 59,
   "metadata": {},
   "outputs": [],
   "source": [
    "# defino función útil tanto para casos equiprobables como no equiprobables\n",
    "\n",
    "def compute_event_prob(event_condition, generic_sample_space):\n",
    "\n",
    "    event = get_matching_event(event_condition=event_condition, sample_space=generic_sample_space)\n",
    "\n",
    "    if type(generic_sample_space) == type(set()):\n",
    "        return len(event)/len(generic_sample_space)\n",
    "    \n",
    "    event_size = sum([generic_sample_space[outcome] for outcome in event])\n",
    "\n",
    "    return event_size/sum(generic_sample_space.values())"
   ]
  },
  {
   "cell_type": "code",
   "execution_count": 63,
   "metadata": {},
   "outputs": [
    {
     "name": "stdout",
     "output_type": "stream",
     "text": [
      "Event Condition: is_heads_or_tails\n",
      "Prob.: 1.0\n",
      "Event Condition: is_neither\n",
      "Prob.: 0.0\n",
      "Event Condition: is_heads\n",
      "Prob.: 0.8\n",
      "Event Condition: is_tails\n",
      "Prob.: 0.2\n"
     ]
    }
   ],
   "source": [
    "for event_condition in event_conditions:\n",
    "    print('Event Condition: {}'.format(event_condition.__name__))\n",
    "    prob =  compute_event_prob(event_condition,sample_space_weighted)\n",
    "    print('Prob.: {}'.format(prob))"
   ]
  },
  {
   "cell_type": "code",
   "execution_count": null,
   "metadata": {},
   "outputs": [],
   "source": []
  }
 ],
 "metadata": {
  "interpreter": {
   "hash": "6e7bd28e140fee883747864dbac78c5044bc352839fa50964addd9cf2b8a41bc"
  },
  "kernelspec": {
   "display_name": "Python 3.9.7 ('gen_env')",
   "language": "python",
   "name": "python3"
  },
  "language_info": {
   "codemirror_mode": {
    "name": "ipython",
    "version": 3
   },
   "file_extension": ".py",
   "mimetype": "text/x-python",
   "name": "python",
   "nbconvert_exporter": "python",
   "pygments_lexer": "ipython3",
   "version": "3.9.7"
  },
  "orig_nbformat": 4
 },
 "nbformat": 4,
 "nbformat_minor": 2
}

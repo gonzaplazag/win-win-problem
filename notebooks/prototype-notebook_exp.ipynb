{
 "cells": [
  {
   "cell_type": "markdown",
   "metadata": {},
   "source": [
    "# Título\n",
    "\n",
    "* Author: Gonzalo Plaza\n",
    "* Contact: gonzalo.plaza@retargetly.com\n",
    "* Date creation: 2022-01-01\n",
    "* Last update:\n",
    "\n",
    "Aquí se explica lo que hace la notebook"
   ]
  },
  {
   "cell_type": "markdown",
   "metadata": {},
   "source": [
    "## Subtítulo 1"
   ]
  },
  {
   "cell_type": "markdown",
   "metadata": {},
   "source": []
  }
 ],
 "metadata": {
  "language_info": {
   "name": "python"
  },
  "orig_nbformat": 4
 },
 "nbformat": 4,
 "nbformat_minor": 2
}

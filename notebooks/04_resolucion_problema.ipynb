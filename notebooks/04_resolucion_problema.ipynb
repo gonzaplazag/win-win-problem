{
 "cells": [
  {
   "cell_type": "code",
   "execution_count": 476,
   "metadata": {},
   "outputs": [],
   "source": [
    "import numpy as np\n",
    "import matplotlib.pyplot as plt"
   ]
  },
  {
   "cell_type": "markdown",
   "metadata": {},
   "source": [
    "# Implementación 1"
   ]
  },
  {
   "cell_type": "markdown",
   "metadata": {},
   "source": [
    "Si la probabilidad de obtener una carta roja en la siguiente extracción es mayor que el 50%, hago stop."
   ]
  },
  {
   "cell_type": "code",
   "execution_count": 335,
   "metadata": {},
   "outputs": [
    {
     "name": "stdout",
     "output_type": "stream",
     "text": [
      "[1, 1, 1, 1, 1, 1, 1, 1, 1, 1, 1, 1, 1, 1, 1, 1, 1, 1, 1, 1, 1, 1, 1, 1, 1, 1, 0, 0, 0, 0, 0, 0, 0, 0, 0, 0, 0, 0, 0, 0, 0, 0, 0, 0, 0, 0, 0, 0, 0, 0, 0, 0]\n"
     ]
    }
   ],
   "source": [
    "# 1. creo un mazo de cartas\n",
    "red_cards = 26 * [1]\n",
    "black_cards = 26 * [0]\n",
    "unshuffled_deck = red_cards + black_cards\n",
    "print(unshuffled_deck)"
   ]
  },
  {
   "cell_type": "code",
   "execution_count": 336,
   "metadata": {},
   "outputs": [
    {
     "name": "stdout",
     "output_type": "stream",
     "text": [
      "[1 1 0 1 0 1 1 1 1 0 1 0 1 1 0 0 1 0 0 0 1 1 1 1 0 1 0 0 1 0 1 0 0 1 0 0 0\n",
      " 1 1 0 1 0 1 1 0 0 0 0 1 0 1 0]\n"
     ]
    }
   ],
   "source": [
    "# 2. Revuelvo\n",
    "#np.random.seed(1)\n",
    "shuffled_deck = np.random.permutation(unshuffled_deck)\n",
    "print(shuffled_deck)"
   ]
  },
  {
   "cell_type": "code",
   "execution_count": 337,
   "metadata": {},
   "outputs": [],
   "source": [
    "remaining_red_cards = 26\n",
    "for i, card in enumerate(shuffled_deck[:-1]):\n",
    "    remaining_red_cards -= card\n",
    "    remaining_total_cards = 52 - i - 1\n",
    "    remaining_red_proportion = remaining_red_cards/remaining_total_cards\n",
    "\n",
    "    if remaining_red_proportion > 0.5:\n",
    "        break"
   ]
  },
  {
   "cell_type": "code",
   "execution_count": 338,
   "metadata": {},
   "outputs": [
    {
     "name": "stdout",
     "output_type": "stream",
     "text": [
      "Stopped the game at index 50\n",
      "The next card is black\n",
      "We have lost\n"
     ]
    }
   ],
   "source": [
    "print('Stopped the game at index {}'.format(i))\n",
    "final_card = shuffled_deck[i+1]\n",
    "color = 'red' if final_card else 0\n",
    "print('The next card is {}'.format('red' if final_card else 'black'))\n",
    "print('We have {}'.format('won' if final_card else 'lost'))"
   ]
  },
  {
   "cell_type": "markdown",
   "metadata": {},
   "source": [
    "# Implementación 2"
   ]
  },
  {
   "cell_type": "markdown",
   "metadata": {},
   "source": [
    "Si la probabilidad de obtener una carta roja en la siguiente extracción es más que X% hago stop."
   ]
  },
  {
   "cell_type": "code",
   "execution_count": 464,
   "metadata": {},
   "outputs": [],
   "source": [
    "# 1. creo un mazo de cartas\n",
    "red_cards = 26 * [1]\n",
    "black_cards = 26 * [0]\n",
    "unshuffled_deck = red_cards + black_cards\n",
    "\n",
    "# 2. Revuelvo\n",
    "#np.random.seed(1)\n",
    "shuffled_deck = np.random.permutation(unshuffled_deck)\n",
    "\n",
    "\n",
    "total_red_cards = 26\n",
    "total_cards = 52\n",
    "\n",
    "def execute_strategy(min_fraction_red = 0.5, shuffled_deck=None, return_index=False):\n",
    "    if shuffled_deck is None:\n",
    "        shuffled_deck = np.random.permutation(unshuffled_deck)\n",
    "\n",
    "    remaining_red_cards = total_red_cards\n",
    "\n",
    "    for i, card in enumerate(shuffled_deck[:-1]):\n",
    "        remaining_red_cards -= card\n",
    "        fraction_red_cards = remaining_red_cards/(total_cards -i -1)\n",
    "        if fraction_red_cards > min_fraction_red:\n",
    "            break\n",
    "\n",
    "    #print('Stopped the game at index {}'.format(i))\n",
    "    #final_card = shuffled_deck[i+1]\n",
    "    #color = 'red' if final_card else 0\n",
    "    #print('The next card is {}'.format('red' if final_card else 'black'))\n",
    "    #print('We have {}'.format('won' if final_card else 'lost'))\n",
    "\n",
    "    return (i+1, shuffled_deck[i+1]) if return_index else shuffled_deck[i+1]\n"
   ]
  },
  {
   "cell_type": "code",
   "execution_count": 465,
   "metadata": {},
   "outputs": [
    {
     "data": {
      "text/plain": [
       "(50, 1)"
      ]
     },
     "execution_count": 465,
     "metadata": {},
     "output_type": "execute_result"
    }
   ],
   "source": [
    "execute_strategy(min_fraction_red=0.7, return_index=True)\n"
   ]
  },
  {
   "cell_type": "markdown",
   "metadata": {},
   "source": [
    "# Implementación 3. Simulación de resultados del juego"
   ]
  },
  {
   "cell_type": "markdown",
   "metadata": {},
   "source": [
    "Repito muchas veces y me fijo que pasa."
   ]
  },
  {
   "cell_type": "code",
   "execution_count": 515,
   "metadata": {},
   "outputs": [
    {
     "data": {
      "text/plain": [
       "0.514"
      ]
     },
     "execution_count": 515,
     "metadata": {},
     "output_type": "execute_result"
    }
   ],
   "source": [
    "# Esta es la proporción de veces que gano si juego 1000 veces\n",
    "observations = np.array([execute_strategy(min_fraction_red=0.75) for _ in range(1000)])\n",
    "observations.mean()"
   ]
  },
  {
   "cell_type": "code",
   "execution_count": 517,
   "metadata": {},
   "outputs": [
    {
     "data": {
      "image/png": "[encoded data removed]",
      "text/plain": [
       "<Figure size 432x288 with 1 Axes>"
      ]
     },
     "metadata": {
      "needs_background": "light"
     },
     "output_type": "display_data"
    }
   ],
   "source": [
    "# puedo grafica como se comporta la frecuencia de victorias al aumentar el tamano muestral.\n",
    "# tiende al verdadero valor de exito.\n",
    "np.random.seed(0)\n",
    "\n",
    "res = []\n",
    "freq = []\n",
    "\n",
    "for i in range(1,1000):\n",
    "    res.append(execute_strategy(min_fraction_red=0.5))\n",
    "    mi_frac = sum(res)/len(res)\n",
    "    freq.append(mi_frac)\n",
    "\n",
    "fig, ax = plt.subplots()\n",
    "plt.plot(list(range(1, len(res) + 1)), freq)\n",
    "plt.show()"
   ]
  },
  {
   "cell_type": "code",
   "execution_count": 518,
   "metadata": {},
   "outputs": [],
   "source": [
    "# puedo graficar un histograma estudiando las frecuencias a una cantidad de muestras,\n",
    "# y así generar una respuesta mediante intervalos de confianza.\n",
    "\n",
    "multiples_freq = []\n",
    "n_games = 100\n",
    "reps = 1000\n",
    "\n",
    "for i in range(reps):\n",
    "    freq = np.array([execute_strategy(min_fraction_red=0.5) for _ in range(n_games)]).mean()\n",
    "    multiples_freq.append(freq)"
   ]
  },
  {
   "cell_type": "code",
   "execution_count": 519,
   "metadata": {},
   "outputs": [
    {
     "name": "stdout",
     "output_type": "stream",
     "text": [
      "Interval: 0.3400 - 0.5889 with prob: 0.9500\n"
     ]
    },
    {
     "data": {
      "image/png": "[encoded data removed]",
      "text/plain": [
       "<Figure size 432x288 with 1 Axes>"
      ]
     },
     "metadata": {
      "needs_background": "light"
     },
     "output_type": "display_data"
    }
   ],
   "source": [
    "likelihoods, bin_edges, patches = plt.hist(multiples_freq, bins='auto', edgecolor='black', density=True)\n",
    "\n",
    "bin_width = bin_edges[1] - bin_edges[0]\n",
    "index = likelihoods.argmax()\n",
    "k = 10\n",
    "start_index, end_index = index - k , index + k\n",
    "area = likelihoods[start_index:end_index+1].sum() * bin_width\n",
    "range_start, range_end = bin_edges[start_index], bin_edges[end_index + 1]\n",
    "range_string = '{:.4f} - {:.4f}'.format(range_start, range_end)\n",
    "print('Interval: {} with prob: {:.4f}'.format(range_string, area))\n",
    "\n",
    "for i in range(start_index, end_index):\n",
    "    patches[i].set_facecolor('yellow')\n",
    "\n",
    "plt.xlabel('Binned Frequency')\n",
    "plt.ylabel('Relative Likelihood')\n",
    "\n",
    "plt.show()\n",
    "\n",
    "# Existe un 95% de probabilidad de gane entre 34 y 58% de las veces. \n",
    "# podemos repetir el experimentos con más casos para mejorar los resultados"
   ]
  },
  {
   "cell_type": "code",
   "execution_count": 520,
   "metadata": {},
   "outputs": [],
   "source": [
    "# puedo graficar un histograma estudiando las frecuencias a una cantidad de muestras,\n",
    "# y así generar una respuesta mediante intervalos de confianza.\n",
    "\n",
    "multiples_freq = []\n",
    "n_games = 500\n",
    "reps = 10000\n",
    "\n",
    "for i in range(reps):\n",
    "    freq = np.array([execute_strategy(min_fraction_red=0.5) for _ in range(n_games)]).mean()\n",
    "    multiples_freq.append(freq)\n",
    "\n"
   ]
  },
  {
   "cell_type": "code",
   "execution_count": 521,
   "metadata": {},
   "outputs": [
    {
     "name": "stdout",
     "output_type": "stream",
     "text": [
      "Interval: 0.4575 - 0.5482 with prob: 0.9562\n"
     ]
    },
    {
     "data": {
      "image/png": "[encoded data removed]",
      "text/plain": [
       "<Figure size 432x288 with 1 Axes>"
      ]
     },
     "metadata": {
      "needs_background": "light"
     },
     "output_type": "display_data"
    }
   ],
   "source": [
    "likelihoods, bin_edges, patches = plt.hist(multiples_freq, bins='auto', edgecolor='black', density=True)\n",
    "\n",
    "bin_width = bin_edges[1] - bin_edges[0]\n",
    "index = likelihoods.argmax()\n",
    "k = 16\n",
    "start_index, end_index = index - k , index + k\n",
    "area = likelihoods[start_index:end_index+1].sum() * bin_width\n",
    "range_start, range_end = bin_edges[start_index], bin_edges[end_index + 1]\n",
    "range_string = '{:.4f} - {:.4f}'.format(range_start, range_end)\n",
    "print('Interval: {} with prob: {:.4f}'.format(range_string, area))\n",
    "\n",
    "for i in range(start_index, end_index):\n",
    "    patches[i].set_facecolor('yellow')\n",
    "\n",
    "plt.xlabel('Binned Frequency')\n",
    "plt.ylabel('Relative Likelihood')\n",
    "\n",
    "plt.show()\n",
    "\n",
    "# Mejoró. Existe un 95% de probabilidad de gane entre 44 y 54% de las veces. \n",
    "# podemos repetir el experimentos con más casos para mejorar los resultados"
   ]
  },
  {
   "cell_type": "markdown",
   "metadata": {},
   "source": [
    "En general, el estudio de intervalos de confianza para diferentes tamaños muestrales así como para diferente samples de cartas no ofrecen resultados concluyentes respecto a sí el valor probabilidad de ganar el juego es mayor al 50%.\n",
    "\n",
    "Se simularon (pg.66(94)) las probabilidades de ganar/perder, pero desglosando los casos en que se termina mirando o no la última carta. Se ve aquí que el punto clave es que no necesariamente se dirá stop en el juego, obligando a decidir el resultado en la última carta. \n",
    "\n",
    "Bajo esta situación, la probabilidad de victoria siempre, bajo cualquier prob.threshold, bajo cualquier tamaño de deck, es del 50%. \n",
    "\n",
    "Con esto, la estrategia óptima es decidir en base a la primera carta del mazo. Existe un 50% de prob. de victoria y 50% de derrota. La hipótesis inicial intuida demostró ser falsa."
   ]
  },
  {
   "cell_type": "markdown",
   "metadata": {},
   "source": []
  }
 ],
 "metadata": {
  "interpreter": {
   "hash": "916dbcbb3f70747c44a77c7bcd40155683ae19c65e1c03b4aa3499c5328201f1"
  },
  "kernelspec": {
   "display_name": "Python 3.9.7 64-bit",
   "language": "python",
   "name": "python3"
  },
  "language_info": {
   "codemirror_mode": {
    "name": "ipython",
    "version": 3
   },
   "file_extension": ".py",
   "mimetype": "text/x-python",
   "name": "python",
   "nbconvert_exporter": "python",
   "pygments_lexer": "ipython3",
   "version": "3.9.7"
  },
  "orig_nbformat": 4
 },
 "nbformat": 4,
 "nbformat_minor": 2
}

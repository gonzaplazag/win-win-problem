{
 "cells": [
  {
   "cell_type": "markdown",
   "metadata": {},
   "source": [
    "# Impl. 1: fair coin"
   ]
  },
  {
   "cell_type": "markdown",
   "metadata": {},
   "source": [
    "Pregunta: Tengo una moneda \"fair\" y la lanzo muchas veces. Como se comporta la frecuencia relativa del resultado sale cara al aumentar los lanzamientos?"
   ]
  },
  {
   "cell_type": "code",
   "execution_count": 94,
   "metadata": {},
   "outputs": [],
   "source": [
    "import numpy as np\n",
    "import matplotlib.pyplot as plt\n",
    "\n",
    "np.random.seed(0)"
   ]
  },
  {
   "cell_type": "code",
   "execution_count": 95,
   "metadata": {},
   "outputs": [
    {
     "data": {
      "text/plain": [
       "5"
      ]
     },
     "execution_count": 95,
     "metadata": {},
     "output_type": "execute_result"
    }
   ],
   "source": [
    "# 1. Simular lanzamiento de un dado equilibrado\n",
    "# la librería clave es numpy\n",
    "die_roll = np.random.randint(1,7)\n",
    "die_roll"
   ]
  },
  {
   "cell_type": "code",
   "execution_count": 96,
   "metadata": {},
   "outputs": [
    {
     "data": {
      "text/plain": [
       "array([1, 1, 0, 1, 1, 1, 1, 1, 1, 1])"
      ]
     },
     "execution_count": 96,
     "metadata": {},
     "output_type": "execute_result"
    }
   ],
   "source": [
    "# 2. Simulo el lanzamiento de una moneda 10 veces\n",
    "coin_flip = np.random.randint(0,2,10)\n",
    "coin_flip"
   ]
  },
  {
   "cell_type": "code",
   "execution_count": 97,
   "metadata": {},
   "outputs": [
    {
     "data": {
      "text/plain": [
       "0.9"
      ]
     },
     "execution_count": 97,
     "metadata": {},
     "output_type": "execute_result"
    }
   ],
   "source": [
    "# 3. A partir de un lanzamiento, obtengo la frecuencia de caras (1)\n",
    "def freq_flip(coin_flip):\n",
    "    return sum(coin_flip)/len(coin_flip)\n",
    "\n",
    "freq_flip(coin_flip)"
   ]
  },
  {
   "cell_type": "code",
   "execution_count": 98,
   "metadata": {},
   "outputs": [],
   "source": [
    "# 4. Observo la frecuencia observada, pero para cada vez más lanzamientos\n",
    "\n",
    "np.random.seed(0)\n",
    "coin_flips = []\n",
    "frequencies = []\n",
    "\n",
    "for _ in range(1000):\n",
    "    coin_flips.append(np.random.randint(0,2))\n",
    "    frequencies.append(freq_flip(coin_flips))"
   ]
  },
  {
   "cell_type": "code",
   "execution_count": 104,
   "metadata": {},
   "outputs": [
    {
     "data": {
      "image/png": "[encoded data removed]",
      "text/plain": [
       "<Figure size 432x288 with 1 Axes>"
      ]
     },
     "metadata": {
      "needs_background": "light"
     },
     "output_type": "display_data"
    }
   ],
   "source": [
    "# 5. Grafico frecuencias\n",
    "plt.plot(list(range(1000)),frequencies)\n",
    "plt.axhline(y=0.5, color = \"k\")\n",
    "plt.xlabel('Number of throws')\n",
    "plt.ylabel('Head Frequency')\n",
    "plt.show()"
   ]
  },
  {
   "cell_type": "markdown",
   "metadata": {},
   "source": [
    "La clave acá es que la frecuencia relativa tiene al verdadero valor de probabilidad cuando n tiende a infinito."
   ]
  },
  {
   "cell_type": "markdown",
   "metadata": {},
   "source": [
    "# Impl. 2: simulación moneda cargada"
   ]
  },
  {
   "cell_type": "code",
   "execution_count": 105,
   "metadata": {},
   "outputs": [
    {
     "name": "stdout",
     "output_type": "stream",
     "text": [
      "1\n"
     ]
    },
    {
     "data": {
      "text/plain": [
       "6"
      ]
     },
     "execution_count": 105,
     "metadata": {},
     "output_type": "execute_result"
    }
   ],
   "source": [
    "# defino semilla\n",
    "np.random.seed(0)\n",
    "\n",
    "# defino: lanzo moneda 1 vez y me fijo el nro de exitos\n",
    "coin_flip = np.random.binomial(1, 0.7)\n",
    "print(coin_flip)\n",
    "\n",
    "# defino: lanzo moneda 10 veces y me fijo el nro exitos\n",
    "number_coin_flip = 10\n",
    "np.random.binomial(number_coin_flip, 0.7)\n"
   ]
  },
  {
   "cell_type": "markdown",
   "metadata": {},
   "source": [
    "# Impl. 3: Intervalos de confianza"
   ]
  },
  {
   "cell_type": "markdown",
   "metadata": {},
   "source": [
    "**Problema**: se lanza una moneda N veces y se computa la frecuencia relativa de los exitos de los lanzamientos. Que nos dice esa frecuencia de p, la probabilidad de obtener cara en 1 lanzamiento?\n",
    "\n",
    "1. Si miramos cada lanzamiento como un problema de Bernoulli (p), lo que es exacto por construcción, la pregunta tiene relación con esta P.\n",
    "\n",
    "2. Tirar muchas veces la moneda y observar la frecuencia relativa de exitos $\\bar{x}$ es un problema tratado por el LGN, que habla de la tendencia en probabilidad de la media de variables aleatorias al valor esperado de esta al aumentar la cantidad valores considerados. En este caso la frecuencia de éxitos tiende al valor de probabilidad $p$. Esto responde la pregunta. \n",
    "\n",
    "**Problema 2**: sabemos que la frecuencia relativa tiende a $p$, pero eso depende en su certeza de la cantidad de lanzamientos. Se puede establecer la certeza para una cantidad dada N de lanzamientos ?"
   ]
  },
  {
   "cell_type": "code",
   "execution_count": 106,
   "metadata": {},
   "outputs": [
    {
     "data": {
      "text/plain": [
       "0.69"
      ]
     },
     "execution_count": 106,
     "metadata": {},
     "output_type": "execute_result"
    }
   ],
   "source": [
    "# si lanzo mil veces, puedo obtener una frecuencia relativa cercana a 0.7\n",
    "coin_flips = 1000\n",
    "p_secreto = 0.7\n",
    "np.random.binomial(coin_flips,p_secreto)/coin_flips"
   ]
  },
  {
   "cell_type": "code",
   "execution_count": 107,
   "metadata": {},
   "outputs": [
    {
     "data": {
      "image/png": "[encoded data removed]",
      "text/plain": [
       "<Figure size 432x288 with 1 Axes>"
      ]
     },
     "metadata": {
      "needs_background": "light"
     },
     "output_type": "display_data"
    }
   ],
   "source": [
    "# la clave aquí es ver como se comporta ese promedio bajo las mismas condiciones.\n",
    "# podría realizar el ejercicio muchas veces y ver como se comporta esa frecuencia.\n",
    "# realizo el experimento 10000 veces.\n",
    "\n",
    "nro_rep_exp = 10000\n",
    "resultados = np.random.binomial(coin_flips, p_secreto, nro_rep_exp)/coin_flips\n",
    "\n",
    "# grafico resultados\n",
    "plt.hist(resultados,bins='auto', edgecolor='black')\n",
    "plt.show()\n",
    "\n",
    "# en los 10000 experimentos, la frecuencia relativa, como variable aleatoria, tiene una distribución."
   ]
  },
  {
   "cell_type": "code",
   "execution_count": 112,
   "metadata": {},
   "outputs": [
    {
     "name": "stdout",
     "output_type": "stream",
     "text": [
      "[0.638      0.63985484 0.64170968 0.64356452 0.64541935 0.64727419\n",
      " 0.64912903 0.65098387 0.65283871 0.65469355 0.65654839 0.65840323\n",
      " 0.66025806 0.6621129  0.66396774 0.66582258 0.66767742 0.66953226\n",
      " 0.6713871  0.67324194 0.67509677 0.67695161 0.67880645 0.68066129\n",
      " 0.68251613 0.68437097 0.68622581 0.68808065 0.68993548 0.69179032\n",
      " 0.69364516 0.6955     0.69735484 0.69920968 0.70106452 0.70291935\n",
      " 0.70477419 0.70662903 0.70848387 0.71033871 0.71219355 0.71404839\n",
      " 0.71590323 0.71775806 0.7196129  0.72146774 0.72332258 0.72517742\n",
      " 0.72703226 0.7288871  0.73074194 0.73259677 0.73445161 0.73630645\n",
      " 0.73816129 0.74001613 0.74187097 0.74372581 0.74558065 0.74743548\n",
      " 0.74929032 0.75114516 0.753     ]\n",
      "[  2.   0.   0.   0.   0.   1.   0.   2.   5.  11.   5.  13.  16.   7.\n",
      "  33.  26.  47.  82.  96. 128.  74. 172. 213. 256. 317. 315. 381. 196.\n",
      " 425. 453. 457. 533. 537. 543. 269. 542. 535. 470. 463. 400. 362. 186.\n",
      " 281. 253. 209. 169. 130.  98.  45.  71.  41.  38.  31.  22.  17.   6.\n",
      "   9.   1.   2.   2.   1.   1.]\n"
     ]
    },
    {
     "data": {
      "image/png": "[encoded data removed]",
      "text/plain": [
       "<Figure size 432x288 with 1 Axes>"
      ]
     },
     "metadata": {
      "needs_background": "light"
     },
     "output_type": "display_data"
    }
   ],
   "source": [
    "# miro bins y count de repeticiones\n",
    "counts, bin_edges, _ = plt.hist(resultados,bins='auto', edgecolor='black')\n",
    "\n",
    "print(bin_edges)\n",
    "print(counts)"
   ]
  },
  {
   "cell_type": "code",
   "execution_count": 14,
   "metadata": {},
   "outputs": [
    {
     "name": "stdout",
     "output_type": "stream",
     "text": [
      "The bin for frequency range 0.638 - 0.6398548387096774 contains 2 elements, equivalent to 0.02% of data\n",
      "The bin for frequency range 0.6398548387096774 - 0.6417096774193548 contains 0 elements, equivalent to 0.0% of data\n",
      "The bin for frequency range 0.6417096774193548 - 0.6435645161290323 contains 0 elements, equivalent to 0.0% of data\n",
      "The bin for frequency range 0.6435645161290323 - 0.6454193548387097 contains 0 elements, equivalent to 0.0% of data\n",
      "The bin for frequency range 0.6454193548387097 - 0.6472741935483871 contains 0 elements, equivalent to 0.0% of data\n",
      "The bin for frequency range 0.6472741935483871 - 0.6491290322580645 contains 1 element, equivalent to 0.01% of data\n",
      "The bin for frequency range 0.6491290322580645 - 0.6509838709677419 contains 0 elements, equivalent to 0.0% of data\n",
      "The bin for frequency range 0.6509838709677419 - 0.6528387096774194 contains 2 elements, equivalent to 0.02% of data\n",
      "The bin for frequency range 0.6528387096774194 - 0.6546935483870968 contains 5 elements, equivalent to 0.05% of data\n",
      "The bin for frequency range 0.6546935483870968 - 0.6565483870967742 contains 11 elements, equivalent to 0.11% of data\n",
      "The bin for frequency range 0.6565483870967742 - 0.6584032258064516 contains 5 elements, equivalent to 0.05% of data\n",
      "The bin for frequency range 0.6584032258064516 - 0.660258064516129 contains 13 elements, equivalent to 0.13% of data\n",
      "The bin for frequency range 0.660258064516129 - 0.6621129032258064 contains 16 elements, equivalent to 0.16% of data\n",
      "The bin for frequency range 0.6621129032258064 - 0.6639677419354839 contains 7 elements, equivalent to 0.07% of data\n",
      "The bin for frequency range 0.6639677419354839 - 0.6658225806451613 contains 33 elements, equivalent to 0.33% of data\n",
      "The bin for frequency range 0.6658225806451613 - 0.6676774193548387 contains 26 elements, equivalent to 0.26% of data\n",
      "The bin for frequency range 0.6676774193548387 - 0.6695322580645161 contains 47 elements, equivalent to 0.47% of data\n",
      "The bin for frequency range 0.6695322580645161 - 0.6713870967741935 contains 82 elements, equivalent to 0.82% of data\n",
      "The bin for frequency range 0.6713870967741935 - 0.673241935483871 contains 96 elements, equivalent to 0.96% of data\n",
      "The bin for frequency range 0.673241935483871 - 0.6750967741935484 contains 128 elements, equivalent to 1.28% of data\n",
      "The bin for frequency range 0.6750967741935484 - 0.6769516129032258 contains 74 elements, equivalent to 0.74% of data\n",
      "The bin for frequency range 0.6769516129032258 - 0.6788064516129032 contains 172 elements, equivalent to 1.72% of data\n",
      "The bin for frequency range 0.6788064516129032 - 0.6806612903225806 contains 213 elements, equivalent to 2.13% of data\n",
      "The bin for frequency range 0.6806612903225806 - 0.6825161290322581 contains 256 elements, equivalent to 2.56% of data\n",
      "The bin for frequency range 0.6825161290322581 - 0.6843709677419355 contains 317 elements, equivalent to 3.17% of data\n",
      "The bin for frequency range 0.6843709677419355 - 0.6862258064516129 contains 315 elements, equivalent to 3.15% of data\n",
      "The bin for frequency range 0.6862258064516129 - 0.6880806451612903 contains 381 elements, equivalent to 3.81% of data\n",
      "The bin for frequency range 0.6880806451612903 - 0.6899354838709677 contains 196 elements, equivalent to 1.96% of data\n",
      "The bin for frequency range 0.6899354838709677 - 0.6917903225806452 contains 425 elements, equivalent to 4.25% of data\n",
      "The bin for frequency range 0.6917903225806452 - 0.6936451612903226 contains 453 elements, equivalent to 4.53% of data\n",
      "The bin for frequency range 0.6936451612903226 - 0.6955 contains 457 elements, equivalent to 4.57% of data\n",
      "The bin for frequency range 0.6955 - 0.6973548387096774 contains 533 elements, equivalent to 5.33% of data\n",
      "The bin for frequency range 0.6973548387096774 - 0.6992096774193548 contains 537 elements, equivalent to 5.37% of data\n",
      "The bin for frequency range 0.6992096774193548 - 0.7010645161290323 contains 543 elements, equivalent to 5.43% of data\n",
      "The bin for frequency range 0.7010645161290323 - 0.7029193548387097 contains 269 elements, equivalent to 2.69% of data\n",
      "The bin for frequency range 0.7029193548387097 - 0.7047741935483871 contains 542 elements, equivalent to 5.42% of data\n",
      "The bin for frequency range 0.7047741935483871 - 0.7066290322580645 contains 535 elements, equivalent to 5.35% of data\n",
      "The bin for frequency range 0.7066290322580645 - 0.7084838709677419 contains 470 elements, equivalent to 4.7% of data\n",
      "The bin for frequency range 0.7084838709677419 - 0.7103387096774194 contains 463 elements, equivalent to 4.63% of data\n",
      "The bin for frequency range 0.7103387096774194 - 0.7121935483870968 contains 400 elements, equivalent to 4.0% of data\n",
      "The bin for frequency range 0.7121935483870968 - 0.7140483870967742 contains 362 elements, equivalent to 3.62% of data\n",
      "The bin for frequency range 0.7140483870967742 - 0.7159032258064516 contains 186 elements, equivalent to 1.86% of data\n",
      "The bin for frequency range 0.7159032258064516 - 0.717758064516129 contains 281 elements, equivalent to 2.81% of data\n",
      "The bin for frequency range 0.717758064516129 - 0.7196129032258065 contains 253 elements, equivalent to 2.53% of data\n",
      "The bin for frequency range 0.7196129032258065 - 0.7214677419354839 contains 209 elements, equivalent to 2.09% of data\n",
      "The bin for frequency range 0.7214677419354839 - 0.7233225806451613 contains 169 elements, equivalent to 1.69% of data\n",
      "The bin for frequency range 0.7233225806451613 - 0.7251774193548387 contains 130 elements, equivalent to 1.3% of data\n",
      "The bin for frequency range 0.7251774193548387 - 0.7270322580645161 contains 98 elements, equivalent to 0.98% of data\n",
      "The bin for frequency range 0.7270322580645161 - 0.7288870967741936 contains 45 elements, equivalent to 0.45% of data\n",
      "The bin for frequency range 0.7288870967741936 - 0.730741935483871 contains 71 elements, equivalent to 0.71% of data\n",
      "The bin for frequency range 0.730741935483871 - 0.7325967741935484 contains 41 elements, equivalent to 0.41% of data\n",
      "The bin for frequency range 0.7325967741935484 - 0.7344516129032258 contains 38 elements, equivalent to 0.38% of data\n",
      "The bin for frequency range 0.7344516129032258 - 0.7363064516129032 contains 31 elements, equivalent to 0.31% of data\n",
      "The bin for frequency range 0.7363064516129032 - 0.7381612903225807 contains 22 elements, equivalent to 0.22% of data\n",
      "The bin for frequency range 0.7381612903225807 - 0.7400161290322581 contains 17 elements, equivalent to 0.17% of data\n",
      "The bin for frequency range 0.7400161290322581 - 0.7418709677419355 contains 6 elements, equivalent to 0.06% of data\n",
      "The bin for frequency range 0.7418709677419355 - 0.7437258064516129 contains 9 elements, equivalent to 0.09% of data\n",
      "The bin for frequency range 0.7437258064516129 - 0.7455806451612903 contains 1 element, equivalent to 0.01% of data\n",
      "The bin for frequency range 0.7455806451612903 - 0.7474354838709677 contains 2 elements, equivalent to 0.02% of data\n",
      "The bin for frequency range 0.7474354838709677 - 0.7492903225806452 contains 2 elements, equivalent to 0.02% of data\n",
      "The bin for frequency range 0.7492903225806452 - 0.7511451612903226 contains 1 element, equivalent to 0.01% of data\n",
      "The bin for frequency range 0.7511451612903226 - 0.753 contains 1 element, equivalent to 0.01% of data\n"
     ]
    }
   ],
   "source": [
    "# observo metricas del histograma\n",
    "\n",
    "def output_bin_coverage(i):\n",
    "    count = int(counts[i])\n",
    "    range_start, range_end = bin_edges[i], bin_edges[i+1]\n",
    "    range_string = f\"{range_start} - {range_end}\"\n",
    "    print((f\"The bin for frequency range {range_string} contains \"f\"{count} element{'' if count == 1 else 's'}, equivalent to {round(count/nro_rep_exp*100,2)}% of data\"))\n",
    "\n",
    "for i in range(len(bin_edges)-1):\n",
    "    output_bin_coverage(i)"
   ]
  },
  {
   "cell_type": "code",
   "execution_count": 15,
   "metadata": {},
   "outputs": [
    {
     "data": {
      "image/png": "[encoded data removed]",
      "text/plain": [
       "<Figure size 432x288 with 1 Axes>"
      ]
     },
     "metadata": {
      "needs_background": "light"
     },
     "output_type": "display_data"
    }
   ],
   "source": [
    "# determinación de likelihood\n",
    "# likelihood, nombre aplicado al valor de y, en el caso de escalar los bins de manera que el histograma tenga area bajo la curva = 1\n",
    "likelihoods, bin_edges, _ = plt.hist(resultados, bins='auto', edgecolor = 'black', density=True)\n",
    "plt.xlabel('Binned Frequency')\n",
    "plt.ylabel('Relative Likelihood')\n",
    "plt.show()"
   ]
  },
  {
   "cell_type": "code",
   "execution_count": 16,
   "metadata": {},
   "outputs": [
    {
     "name": "stdout",
     "output_type": "stream",
     "text": [
      "Interval: 0.6992 - 0.7011 with prob: 0.0543\n"
     ]
    }
   ],
   "source": [
    "# determino probabilidad de caer en el bin mas alto\n",
    "bin_width = bin_edges[1] - bin_edges[0]\n",
    "index = likelihoods.argmax()\n",
    "area = likelihoods[index] * bin_width\n",
    "range_start, range_end = bin_edges[index], bin_edges[index + 1]\n",
    "range_string = '{:.4f} - {:.4f}'.format(range_start, range_end)\n",
    "print('Interval: {} with prob: {:.4f}'.format(range_string, area))"
   ]
  },
  {
   "cell_type": "code",
   "execution_count": 17,
   "metadata": {},
   "outputs": [
    {
     "name": "stdout",
     "output_type": "stream",
     "text": [
      "Interval: 0.6974 - 0.7029 with prob: 0.1349\n"
     ]
    }
   ],
   "source": [
    "# esto me ofrece un intervalo de confianza, tomando 3 bins por ejemplo.\n",
    "# con un ~ 13% de probabilidad, el verdadero valor de p cae dentro del intervalo 0.697-0.703\n",
    "index = likelihoods.argmax()\n",
    "start_index, end_index = index - 1, index + 1\n",
    "area = likelihoods[start_index:end_index + 1].sum()*bin_width\n",
    "range_start, range_end = bin_edges[start_index], bin_edges[end_index + 1]\n",
    "range_string = '{:.4f} - {:.4f}'.format(range_start, range_end)\n",
    "print('Interval: {} with prob: {:.4f}'.format(range_string, area))\n",
    "\n",
    "# la pregunta es si esto es suficiente certeza para el objetivo buscado."
   ]
  },
  {
   "cell_type": "code",
   "execution_count": 18,
   "metadata": {},
   "outputs": [
    {
     "name": "stdout",
     "output_type": "stream",
     "text": [
      "Interval: 0.6974 - 0.7029 with prob: 0.1349\n",
      "Interval: 0.6955 - 0.7048 with prob: 0.2424\n",
      "Interval: 0.6936 - 0.7066 with prob: 0.3416\n",
      "Interval: 0.6918 - 0.7085 with prob: 0.4339\n",
      "Interval: 0.6899 - 0.7103 with prob: 0.5227\n",
      "Interval: 0.6881 - 0.7122 with prob: 0.5823\n",
      "Interval: 0.6862 - 0.7140 with prob: 0.6566\n",
      "Interval: 0.6844 - 0.7159 with prob: 0.7067\n",
      "Interval: 0.6825 - 0.7178 with prob: 0.7665\n",
      "Interval: 0.6807 - 0.7196 with prob: 0.8174\n",
      "Interval: 0.6788 - 0.7215 with prob: 0.8596\n",
      "Interval: 0.6770 - 0.7233 with prob: 0.8937\n",
      "Interval: 0.6751 - 0.7252 with prob: 0.9141\n",
      "Interval: 0.6732 - 0.7270 with prob: 0.9367\n",
      "Interval: 0.6714 - 0.7289 with prob: 0.9508\n",
      "Interval: 0.6695 - 0.7307 with prob: 0.9661\n",
      "Interval: 0.6677 - 0.7326 with prob: 0.9749\n",
      "Interval: 0.6658 - 0.7345 with prob: 0.9813\n",
      "Interval: 0.6640 - 0.7363 with prob: 0.9877\n"
     ]
    }
   ],
   "source": [
    "# construcción iterativa de intervalo de confianza\n",
    "index = likelihoods.argmax()\n",
    "for i in range(1,20):\n",
    "    start_index, end_index = index - i, index + i\n",
    "    area = likelihoods[start_index:end_index+1].sum() * bin_width\n",
    "    range_start, range_end = bin_edges[start_index], bin_edges[end_index + 1]\n",
    "    range_string = '{:.4f} - {:.4f}'.format(range_start, range_end)\n",
    "    print('Interval: {} with prob: {:.4f}'.format(range_string, area))"
   ]
  },
  {
   "cell_type": "markdown",
   "metadata": {},
   "source": [
    "En el resultado se observa que existe un 95% de probabilidad de que el verdadero valor de p caiga entre 0.67-0.72"
   ]
  },
  {
   "cell_type": "code",
   "execution_count": 19,
   "metadata": {},
   "outputs": [
    {
     "name": "stdout",
     "output_type": "stream",
     "text": [
      "Interval: 0.6860 - 0.7121 with prob: 0.9549\n"
     ]
    },
    {
     "data": {
      "image/png": "[encoded data removed]",
      "text/plain": [
       "<Figure size 432x288 with 1 Axes>"
      ]
     },
     "metadata": {
      "needs_background": "light"
     },
     "output_type": "display_data"
    }
   ],
   "source": [
    "# repetición del ejercicio: nro. lanzamientos 5000, nro repeticiones del ejercicio: 100000\n",
    "coin_flips = 5000\n",
    "p_secreto = 0.7\n",
    "nro_rep_exp = 100000\n",
    "resultados = np.random.binomial(coin_flips, p_secreto, nro_rep_exp)/coin_flips\n",
    "\n",
    "# grafico resultados\n",
    "likelihoods, bin_edges, patches = plt.hist(resultados, bins='auto', edgecolor='black', density = True)\n",
    "\n",
    "\n",
    "bin_width = bin_edges[1] - bin_edges[0]\n",
    "index = likelihoods.argmax()\n",
    "k = 34\n",
    "start_index, end_index = index - k , index + k\n",
    "area = likelihoods[start_index:end_index+1].sum() * bin_width\n",
    "range_start, range_end = bin_edges[start_index], bin_edges[end_index + 1]\n",
    "range_string = '{:.4f} - {:.4f}'.format(range_start, range_end)\n",
    "print('Interval: {} with prob: {:.4f}'.format(range_string, area))\n",
    "\n",
    "for i in range(start_index, end_index):\n",
    "    patches[i].set_facecolor('yellow')\n",
    "\n",
    "plt.xlabel('Binned Frequency')\n",
    "plt.ylabel('Relative Likelihood')\n",
    "\n",
    "plt.show()\n"
   ]
  },
  {
   "cell_type": "code",
   "execution_count": 20,
   "metadata": {},
   "outputs": [
    {
     "name": "stdout",
     "output_type": "stream",
     "text": [
      "Interval: 0.6877 - 0.7138 with prob: 0.9552\n"
     ]
    }
   ],
   "source": [
    "# Es relevante ver que la función np.histogram me da likelihood y edges sin salida grafica!\n",
    "# repetición del ejercicio: nro. lanzamientos 5000, nro repeticiones del ejercicio: 100000\n",
    "coin_flips = 5000\n",
    "p_secreto = 0.7\n",
    "nro_rep_exp = 100000\n",
    "resultados = np.random.binomial(coin_flips, p_secreto, nro_rep_exp)/coin_flips\n",
    "\n",
    "# grafico resultados\n",
    "likelihoods, bin_edges = np.histogram(resultados, bins='auto', density = True)\n",
    "\n",
    "\n",
    "bin_width = bin_edges[1] - bin_edges[0]\n",
    "index = likelihoods.argmax()\n",
    "k = 34\n",
    "start_index, end_index = index - k , index + k\n",
    "area = likelihoods[start_index:end_index+1].sum() * bin_width\n",
    "range_start, range_end = bin_edges[start_index], bin_edges[end_index + 1]\n",
    "range_string = '{:.4f} - {:.4f}'.format(range_start, range_end)\n",
    "print('Interval: {} with prob: {:.4f}'.format(range_string, area))"
   ]
  },
  {
   "cell_type": "markdown",
   "metadata": {},
   "source": [
    "# Implementación: juego de cartas"
   ]
  },
  {
   "cell_type": "code",
   "execution_count": 136,
   "metadata": {},
   "outputs": [],
   "source": [
    "# Defino una situación: un mazo de cartas de cartas rojas y negras, en proporción desconocida cada uno.\n",
    "#np.random.seed(33)\n",
    "total_cards = 52\n",
    "red_card_count = np.random.randint(0,total_cards)\n",
    "black_card_count = total_cards - red_card_count\n",
    "assert red_card_count != black_card_count"
   ]
  },
  {
   "cell_type": "code",
   "execution_count": 137,
   "metadata": {},
   "outputs": [],
   "source": [
    "# 1. Definicion de sample space (caso no equiprobable)\n",
    "weighted_sample_space = {'red_card':red_card_count, 'black_card':black_card_count}\n",
    "\n",
    "# 2. computo probabilidad\n",
    "def get_matching_event(event_condition, sample_space):\n",
    "    return set([outcome for outcome in sample_space if event_condition(outcome)])\n",
    "\n",
    "def compute_prob(event_condition, sample_space):\n",
    "    event = get_matching_event(event_condition, sample_space)\n",
    "\n",
    "    if type(sample_space) == type(set()):\n",
    "        return len(event)/len(sample_space)\n",
    "\n",
    "    else:\n",
    "        event_size = sum([sample_space[outcome] for outcome in event])\n",
    "        total_repetitions = sum(sample_space.values())\n",
    "        return event_size/total_repetitions\n",
    "\n",
    "prob_red = compute_prob(lambda x: x == 'red_card', weighted_sample_space)"
   ]
  },
  {
   "cell_type": "code",
   "execution_count": 138,
   "metadata": {},
   "outputs": [
    {
     "name": "stdout",
     "output_type": "stream",
     "text": [
      "El color de la primera carta es black\n"
     ]
    }
   ],
   "source": [
    "#np.random.seed(10)\n",
    "color = 'red' if np.random.binomial(1, prob_red) else 'black'\n",
    "print('El color de la primera carta es {}'.format(color))"
   ]
  },
  {
   "cell_type": "code",
   "execution_count": 139,
   "metadata": {},
   "outputs": [
    {
     "name": "stdout",
     "output_type": "stream",
     "text": [
      "En 10 extracciones de la primera carta 3 veces salió roja\n"
     ]
    }
   ],
   "source": [
    "#np.random.seed(10)\n",
    "red_count = np.random.binomial(10, prob_red)\n",
    "print('En 10 extracciones de la primera carta {} veces salió roja'.format(red_count))"
   ]
  },
  {
   "cell_type": "code",
   "execution_count": 140,
   "metadata": {},
   "outputs": [
    {
     "name": "stdout",
     "output_type": "stream",
     "text": [
      "Interval: 0.3227 - 0.3308 with prob: 0.9457\n"
     ]
    }
   ],
   "source": [
    "# comienzo con la simulación en cuanto tal. Realizo ejercicio 50000 veces y computo frecuencia de rojas\n",
    "# esto lo hago 100000 veces\n",
    "# miro intervalo al 95%\n",
    "\n",
    "#np.random.seed(12)\n",
    "red_card_count_array = np.random.binomial(50000, prob_red, 100000)\n",
    "frequency_array = red_card_count_array/50000\n",
    "\n",
    "likelihoods, bin_edges = np.histogram(frequency_array, bins='auto', density=True)\n",
    "\n",
    "bin_width = bin_edges[1] - bin_edges[0]\n",
    "\n",
    "index = likelihoods.argmax()\n",
    "k = 33\n",
    "start_index, end_index = index - k , index + k\n",
    "area = likelihoods[start_index:end_index+1].sum() * bin_width\n",
    "range_start, range_end = bin_edges[start_index], bin_edges[end_index + 1]\n",
    "range_string = '{:.4f} - {:.4f}'.format(range_start, range_end)\n",
    "print('Interval: {} with prob: {:.4f}'.format(range_string, area))\n"
   ]
  },
  {
   "cell_type": "code",
   "execution_count": 141,
   "metadata": {},
   "outputs": [
    {
     "data": {
      "text/plain": [
       "(17, 17)"
      ]
     },
     "execution_count": 141,
     "metadata": {},
     "output_type": "execute_result"
    }
   ],
   "source": [
    "# se observa el intervalo en términos de cantidad de rojas\n",
    "round(range_start * 52), round(range_end * 52)"
   ]
  },
  {
   "cell_type": "code",
   "execution_count": 142,
   "metadata": {},
   "outputs": [
    {
     "data": {
      "text/plain": [
       "17"
      ]
     },
     "execution_count": 142,
     "metadata": {},
     "output_type": "execute_result"
    }
   ],
   "source": [
    "# se verifica que existe justamente la cantidad de rojas\n",
    "red_card_count"
   ]
  }
 ],
 "metadata": {
  "interpreter": {
   "hash": "6e7bd28e140fee883747864dbac78c5044bc352839fa50964addd9cf2b8a41bc"
  },
  "kernelspec": {
   "display_name": "Python 3.9.7 ('gen_env')",
   "language": "python",
   "name": "python3"
  },
  "language_info": {
   "codemirror_mode": {
    "name": "ipython",
    "version": 3
   },
   "file_extension": ".py",
   "mimetype": "text/x-python",
   "name": "python",
   "nbconvert_exporter": "python",
   "pygments_lexer": "ipython3",
   "version": "3.9.7"
  },
  "orig_nbformat": 4
 },
 "nbformat": 4,
 "nbformat_minor": 2
}

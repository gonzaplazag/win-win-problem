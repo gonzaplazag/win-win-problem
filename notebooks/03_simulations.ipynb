{
 "cells": [
  {
   "cell_type": "markdown",
   "metadata": {},
   "source": [
    "# Basic Numpy"
   ]
  },
  {
   "cell_type": "code",
   "execution_count": 1,
   "metadata": {},
   "outputs": [],
   "source": [
    "import numpy as np\n",
    "import matplotlib.pyplot as plt\n",
    "\n",
    "np.random.seed(0)"
   ]
  },
  {
   "cell_type": "code",
   "execution_count": 2,
   "metadata": {},
   "outputs": [
    {
     "data": {
      "text/plain": [
       "5"
      ]
     },
     "execution_count": 2,
     "metadata": {},
     "output_type": "execute_result"
    }
   ],
   "source": [
    "# 1. Simular lanzamiento de un dado equilibrado\n",
    "# la librería clave es numpy\n",
    "die_roll = np.random.randint(1,7)\n",
    "die_roll"
   ]
  },
  {
   "cell_type": "code",
   "execution_count": 3,
   "metadata": {},
   "outputs": [
    {
     "data": {
      "text/plain": [
       "array([1, 1, 0, 1, 1, 1, 1, 1, 1, 1])"
      ]
     },
     "execution_count": 3,
     "metadata": {},
     "output_type": "execute_result"
    }
   ],
   "source": [
    "# 2. Simulo el lanzamiento de una moneda 10 veces\n",
    "coin_flip = np.random.randint(0,2,10)\n",
    "coin_flip"
   ]
  },
  {
   "cell_type": "code",
   "execution_count": 4,
   "metadata": {},
   "outputs": [
    {
     "data": {
      "text/plain": [
       "0.9"
      ]
     },
     "execution_count": 4,
     "metadata": {},
     "output_type": "execute_result"
    }
   ],
   "source": [
    "# 3. A partir de un lanzamiento, obtengo la frecuencia de caras (1)\n",
    "def freq_flip(coin_flip):\n",
    "    return sum(coin_flip)/len(coin_flip)\n",
    "\n",
    "freq_flip(coin_flip)"
   ]
  },
  {
   "cell_type": "code",
   "execution_count": 5,
   "metadata": {},
   "outputs": [],
   "source": [
    "# 4. Observo la frecuencia observada, pero para cada vez más lanzamientos\n",
    "\n",
    "np.random.seed(0)\n",
    "coin_flips = []\n",
    "frequencies = []\n",
    "\n",
    "for _ in range(1000):\n",
    "    coin_flips.append(np.random.randint(0,2))\n",
    "    frequencies.append(freq_flip(coin_flips))"
   ]
  },
  {
   "cell_type": "code",
   "execution_count": 6,
   "metadata": {},
   "outputs": [
    {
     "data": {
      "image/png": "[encoded data removed]",
      "text/plain": [
       "<Figure size 432x288 with 1 Axes>"
      ]
     },
     "metadata": {
      "needs_background": "light"
     },
     "output_type": "display_data"
    }
   ],
   "source": [
    "# 5. Grafico freciencias\n",
    "plt.plot(list(range(1000)),frequencies)\n",
    "plt.axhline(y=0.5, color = \"k\")\n",
    "plt.xlabel('Number of throws')\n",
    "plt.ylabel('Head Frequency')\n",
    "plt.show()"
   ]
  },
  {
   "cell_type": "markdown",
   "metadata": {},
   "source": [
    "# Impl. 1: simulación moneda cargada"
   ]
  },
  {
   "cell_type": "code",
   "execution_count": 7,
   "metadata": {},
   "outputs": [
    {
     "name": "stdout",
     "output_type": "stream",
     "text": [
      "1\n"
     ]
    },
    {
     "data": {
      "text/plain": [
       "6"
      ]
     },
     "execution_count": 7,
     "metadata": {},
     "output_type": "execute_result"
    }
   ],
   "source": [
    "# defino semilla\n",
    "np.random.seed(0)\n",
    "\n",
    "# defino: lanzo moneda 1 vez y me fijo el nro de exitos\n",
    "coin_flip = np.random.binomial(1, 0.7)\n",
    "print(coin_flip)\n",
    "\n",
    "# defino: lanzo moneda 10 veces y me fijo el nro exitos\n",
    "number_coin_flip = 10\n",
    "np.random.binomial(number_coin_flip, 0.7)\n"
   ]
  },
  {
   "cell_type": "markdown",
   "metadata": {},
   "source": [
    "# Intervalos de confianza"
   ]
  },
  {
   "cell_type": "markdown",
   "metadata": {},
   "source": [
    "**Problema**: se lanza una moneda N veces y se computa la frecuencia relativa de los exitos de los lanzamientos. Que nos dice esa frecuencia de p, la probabilidad de obtener cara en 1 lanzamiento?\n",
    "\n",
    "1. Si miramos cada lanzamiento como un problema de Bernoulli (p), lo que es exacto por construcción, la pregunta tiene relación con esta P.\n",
    "\n",
    "2. Tirar muchas veces la moneda y observar la frecuencia relativa de exitos $\\bar{x}$ es un problema tratado por el LGN, que habla de la tendencia en probabilidad de la media de variables aleatorias al valor esperado de esta al aumentar la cantidad valores considerados. En este caso la frecuencia de éxitos tiende al valor de probabilidad $p$. Esto responde la pregunta. \n",
    "\n",
    "**Problema 2**: sabemos que la frecuencia relativa tiende a $p$, pero eso depende en su certeza de la cantidad de lanzamientos. Se puede establecer la certeza para una cantidad dada N de lanzamientos ?"
   ]
  },
  {
   "cell_type": "code",
   "execution_count": 8,
   "metadata": {},
   "outputs": [
    {
     "data": {
      "text/plain": [
       "0.69"
      ]
     },
     "execution_count": 8,
     "metadata": {},
     "output_type": "execute_result"
    }
   ],
   "source": [
    "# si lanzo mil veces, puedo obtener una frecuencia relativa cercana a 0.7\n",
    "coin_flips = 1000\n",
    "p_secreto = 0.7\n",
    "np.random.binomial(coin_flips,p_secreto)/coin_flips"
   ]
  },
  {
   "cell_type": "code",
   "execution_count": 58,
   "metadata": {},
   "outputs": [
    {
     "data": {
      "image/png": "[encoded data removed]",
      "text/plain": [
       "<Figure size 432x288 with 1 Axes>"
      ]
     },
     "metadata": {
      "needs_background": "light"
     },
     "output_type": "display_data"
    }
   ],
   "source": [
    "# podría realizar el ejercicio muchas veces y ver como se comporta esa frecuencia\n",
    "# realizo el experimento 10000 veces\n",
    "nro_rep_exp = 10000\n",
    "resultados = np.random.binomial(coin_flips, p_secreto, nro_rep_exp)/coin_flips\n",
    "\n",
    "# grafico resultados\n",
    "plt.hist(resultados,bins='auto', edgecolor='black')\n",
    "plt.show()"
   ]
  },
  {
   "cell_type": "code",
   "execution_count": 59,
   "metadata": {},
   "outputs": [
    {
     "data": {
      "image/png": "[encoded data removed]",
      "text/plain": [
       "<Figure size 432x288 with 1 Axes>"
      ]
     },
     "metadata": {
      "needs_background": "light"
     },
     "output_type": "display_data"
    }
   ],
   "source": [
    "# miro bins y count de repeticiones\n",
    "counts, bin_edges, _ = plt.hist(resultados,bins='auto', edgecolor='black')"
   ]
  },
  {
   "cell_type": "code",
   "execution_count": 11,
   "metadata": {},
   "outputs": [
    {
     "data": {
      "text/plain": [
       "array([ 1.,  4., 15., 14., 24., 29., 55., 79., 59., 64., 52., 39., 33.,\n",
       "       21., 11.])"
      ]
     },
     "execution_count": 11,
     "metadata": {},
     "output_type": "execute_result"
    }
   ],
   "source": [
    "counts"
   ]
  },
  {
   "cell_type": "code",
   "execution_count": 57,
   "metadata": {},
   "outputs": [
    {
     "data": {
      "text/plain": [
       "array([0.656     , 0.66113333, 0.66626667, 0.6714    , 0.67653333,\n",
       "       0.68166667, 0.6868    , 0.69193333, 0.69706667, 0.7022    ,\n",
       "       0.70733333, 0.71246667, 0.7176    , 0.72273333, 0.72786667,\n",
       "       0.733     ])"
      ]
     },
     "execution_count": 57,
     "metadata": {},
     "output_type": "execute_result"
    }
   ],
   "source": [
    "bin_edges"
   ]
  },
  {
   "cell_type": "code",
   "execution_count": 61,
   "metadata": {},
   "outputs": [
    {
     "name": "stdout",
     "output_type": "stream",
     "text": [
      "The bin for frequency range 0.638 - 0.6398548387096774 contains 2 elements, equivalent to 0.02% of data\n",
      "The bin for frequency range 0.6398548387096774 - 0.6417096774193548 contains 0 elements, equivalent to 0.0% of data\n",
      "The bin for frequency range 0.6417096774193548 - 0.6435645161290323 contains 0 elements, equivalent to 0.0% of data\n",
      "The bin for frequency range 0.6435645161290323 - 0.6454193548387097 contains 0 elements, equivalent to 0.0% of data\n",
      "The bin for frequency range 0.6454193548387097 - 0.6472741935483871 contains 0 elements, equivalent to 0.0% of data\n",
      "The bin for frequency range 0.6472741935483871 - 0.6491290322580645 contains 1 element, equivalent to 0.01% of data\n",
      "The bin for frequency range 0.6491290322580645 - 0.6509838709677419 contains 0 elements, equivalent to 0.0% of data\n",
      "The bin for frequency range 0.6509838709677419 - 0.6528387096774194 contains 2 elements, equivalent to 0.02% of data\n",
      "The bin for frequency range 0.6528387096774194 - 0.6546935483870968 contains 5 elements, equivalent to 0.05% of data\n",
      "The bin for frequency range 0.6546935483870968 - 0.6565483870967742 contains 10 elements, equivalent to 0.1% of data\n",
      "The bin for frequency range 0.6565483870967742 - 0.6584032258064516 contains 6 elements, equivalent to 0.06% of data\n",
      "The bin for frequency range 0.6584032258064516 - 0.660258064516129 contains 14 elements, equivalent to 0.14% of data\n",
      "The bin for frequency range 0.660258064516129 - 0.6621129032258064 contains 16 elements, equivalent to 0.16% of data\n",
      "The bin for frequency range 0.6621129032258064 - 0.6639677419354839 contains 9 elements, equivalent to 0.09% of data\n",
      "The bin for frequency range 0.6639677419354839 - 0.6658225806451613 contains 35 elements, equivalent to 0.35% of data\n",
      "The bin for frequency range 0.6658225806451613 - 0.6676774193548387 contains 25 elements, equivalent to 0.25% of data\n",
      "The bin for frequency range 0.6676774193548387 - 0.6695322580645161 contains 49 elements, equivalent to 0.49% of data\n",
      "The bin for frequency range 0.6695322580645161 - 0.6713870967741935 contains 74 elements, equivalent to 0.74% of data\n",
      "The bin for frequency range 0.6713870967741935 - 0.673241935483871 contains 98 elements, equivalent to 0.98% of data\n",
      "The bin for frequency range 0.673241935483871 - 0.6750967741935484 contains 125 elements, equivalent to 1.25% of data\n",
      "The bin for frequency range 0.6750967741935484 - 0.6769516129032258 contains 71 elements, equivalent to 0.71% of data\n",
      "The bin for frequency range 0.6769516129032258 - 0.6788064516129032 contains 174 elements, equivalent to 1.74% of data\n",
      "The bin for frequency range 0.6788064516129032 - 0.6806612903225806 contains 211 elements, equivalent to 2.11% of data\n",
      "The bin for frequency range 0.6806612903225806 - 0.6825161290322581 contains 266 elements, equivalent to 2.66% of data\n",
      "The bin for frequency range 0.6825161290322581 - 0.6843709677419355 contains 318 elements, equivalent to 3.18% of data\n",
      "The bin for frequency range 0.6843709677419355 - 0.6862258064516129 contains 316 elements, equivalent to 3.16% of data\n",
      "The bin for frequency range 0.6862258064516129 - 0.6880806451612903 contains 372 elements, equivalent to 3.72% of data\n",
      "The bin for frequency range 0.6880806451612903 - 0.6899354838709677 contains 193 elements, equivalent to 1.93% of data\n",
      "The bin for frequency range 0.6899354838709677 - 0.6917903225806452 contains 431 elements, equivalent to 4.31% of data\n",
      "The bin for frequency range 0.6917903225806452 - 0.6936451612903226 contains 450 elements, equivalent to 4.5% of data\n",
      "The bin for frequency range 0.6936451612903226 - 0.6955 contains 446 elements, equivalent to 4.46% of data\n",
      "The bin for frequency range 0.6955 - 0.6973548387096774 contains 534 elements, equivalent to 5.34% of data\n",
      "The bin for frequency range 0.6973548387096774 - 0.6992096774193548 contains 533 elements, equivalent to 5.33% of data\n",
      "The bin for frequency range 0.6992096774193548 - 0.7010645161290323 contains 558 elements, equivalent to 5.58% of data\n",
      "The bin for frequency range 0.7010645161290323 - 0.7029193548387097 contains 267 elements, equivalent to 2.67% of data\n",
      "The bin for frequency range 0.7029193548387097 - 0.7047741935483871 contains 549 elements, equivalent to 5.49% of data\n",
      "The bin for frequency range 0.7047741935483871 - 0.7066290322580645 contains 534 elements, equivalent to 5.34% of data\n",
      "The bin for frequency range 0.7066290322580645 - 0.7084838709677419 contains 470 elements, equivalent to 4.7% of data\n",
      "The bin for frequency range 0.7084838709677419 - 0.7103387096774194 contains 468 elements, equivalent to 4.68% of data\n",
      "The bin for frequency range 0.7103387096774194 - 0.7121935483870968 contains 400 elements, equivalent to 4.0% of data\n",
      "The bin for frequency range 0.7121935483870968 - 0.7140483870967742 contains 361 elements, equivalent to 3.61% of data\n",
      "The bin for frequency range 0.7140483870967742 - 0.7159032258064516 contains 186 elements, equivalent to 1.86% of data\n",
      "The bin for frequency range 0.7159032258064516 - 0.717758064516129 contains 276 elements, equivalent to 2.76% of data\n",
      "The bin for frequency range 0.717758064516129 - 0.7196129032258065 contains 248 elements, equivalent to 2.48% of data\n",
      "The bin for frequency range 0.7196129032258065 - 0.7214677419354839 contains 211 elements, equivalent to 2.11% of data\n",
      "The bin for frequency range 0.7214677419354839 - 0.7233225806451613 contains 166 elements, equivalent to 1.66% of data\n",
      "The bin for frequency range 0.7233225806451613 - 0.7251774193548387 contains 135 elements, equivalent to 1.35% of data\n",
      "The bin for frequency range 0.7251774193548387 - 0.7270322580645161 contains 91 elements, equivalent to 0.91% of data\n",
      "The bin for frequency range 0.7270322580645161 - 0.7288870967741936 contains 46 elements, equivalent to 0.46% of data\n",
      "The bin for frequency range 0.7288870967741936 - 0.730741935483871 contains 75 elements, equivalent to 0.75% of data\n",
      "The bin for frequency range 0.730741935483871 - 0.7325967741935484 contains 42 elements, equivalent to 0.42% of data\n",
      "The bin for frequency range 0.7325967741935484 - 0.7344516129032258 contains 37 elements, equivalent to 0.37% of data\n",
      "The bin for frequency range 0.7344516129032258 - 0.7363064516129032 contains 32 elements, equivalent to 0.32% of data\n",
      "The bin for frequency range 0.7363064516129032 - 0.7381612903225807 contains 22 elements, equivalent to 0.22% of data\n",
      "The bin for frequency range 0.7381612903225807 - 0.7400161290322581 contains 18 elements, equivalent to 0.18% of data\n",
      "The bin for frequency range 0.7400161290322581 - 0.7418709677419355 contains 6 elements, equivalent to 0.06% of data\n",
      "The bin for frequency range 0.7418709677419355 - 0.7437258064516129 contains 9 elements, equivalent to 0.09% of data\n",
      "The bin for frequency range 0.7437258064516129 - 0.7455806451612903 contains 1 element, equivalent to 0.01% of data\n",
      "The bin for frequency range 0.7455806451612903 - 0.7474354838709677 contains 2 elements, equivalent to 0.02% of data\n",
      "The bin for frequency range 0.7474354838709677 - 0.7492903225806452 contains 2 elements, equivalent to 0.02% of data\n",
      "The bin for frequency range 0.7492903225806452 - 0.7511451612903226 contains 1 element, equivalent to 0.01% of data\n",
      "The bin for frequency range 0.7511451612903226 - 0.753 contains 1 element, equivalent to 0.01% of data\n"
     ]
    }
   ],
   "source": [
    "# observo metricas del histograma\n",
    "\n",
    "def output_bin_coverage(i):\n",
    "    count = int(counts[i])\n",
    "    range_start, range_end = bin_edges[i], bin_edges[i+1]\n",
    "    range_string = f\"{range_start} - {range_end}\"\n",
    "    print((f\"The bin for frequency range {range_string} contains \"f\"{count} element{'' if count == 1 else 's'}, equivalent to {round(count/nro_rep_exp*100,2)}% of data\"))\n",
    "\n",
    "for i in range(len(bin_edges)-1):\n",
    "    output_bin_coverage(i)"
   ]
  },
  {
   "cell_type": "code",
   "execution_count": 62,
   "metadata": {},
   "outputs": [
    {
     "data": {
      "image/png": "[encoded data removed]",
      "text/plain": [
       "<Figure size 432x288 with 1 Axes>"
      ]
     },
     "metadata": {
      "needs_background": "light"
     },
     "output_type": "display_data"
    }
   ],
   "source": [
    "# determinación de likelihood\n",
    "# likelihood, nombre aplicado al valor de y, en el caso de escalar los bins de manera que el histograma tenga area bajo la curva = 1\n",
    "likelihoods, bin_edges, _ = plt.hist(resultados, bins='auto', edgecolor = 'black', density=True)\n",
    "plt.xlabel('Binned Frequency')\n",
    "plt.ylabel('Relative Likelihood')\n",
    "plt.show()"
   ]
  },
  {
   "cell_type": "code",
   "execution_count": 67,
   "metadata": {},
   "outputs": [
    {
     "name": "stdout",
     "output_type": "stream",
     "text": [
      "Interval: 0.6992 - 0.7011 with prob: 0.0558\n"
     ]
    }
   ],
   "source": [
    "# determino probabilidad de caer en el bin mas alto\n",
    "bin_width = bin_edges[1] - bin_edges[0]\n",
    "index = likelihoods.argmax()\n",
    "area = likelihoods[index] * bin_width\n",
    "range_start, range_end = bin_edges[index], bin_edges[index + 1]\n",
    "range_string = '{:.4f} - {:.4f}'.format(range_start, range_end)\n",
    "print('Interval: {} with prob: {:.4f}'.format(range_string, area))"
   ]
  },
  {
   "cell_type": "code",
   "execution_count": 68,
   "metadata": {},
   "outputs": [
    {
     "name": "stdout",
     "output_type": "stream",
     "text": [
      "Interval: 0.6974 - 0.7029 with prob: 0.1358\n"
     ]
    }
   ],
   "source": [
    "# esto me ofrece un intervalo de confianza, tomando 3 bins por ejemplo.\n",
    "# con un ~ 13% de probabilidad, el verdadero valor de p cae dentro del intervalo 0.697-0.703\n",
    "index = likelihoods.argmax()\n",
    "start_index, end_index = index - 1, index + 1\n",
    "area = likelihoods[start_index:end_index + 1].sum()*bin_width\n",
    "range_start, range_end = bin_edges[start_index], bin_edges[end_index + 1]\n",
    "range_string = '{:.4f} - {:.4f}'.format(range_start, range_end)\n",
    "print('Interval: {} with prob: {:.4f}'.format(range_string, area))\n",
    "\n",
    "# la pregunta es si esto es suficiente certeza para el objetivo buscado."
   ]
  },
  {
   "cell_type": "code",
   "execution_count": 70,
   "metadata": {},
   "outputs": [
    {
     "name": "stdout",
     "output_type": "stream",
     "text": [
      "Interval: 0.6974 - 0.7029 with prob: 0.1358\n",
      "Interval: 0.6955 - 0.7048 with prob: 0.2441\n",
      "Interval: 0.6936 - 0.7066 with prob: 0.3421\n",
      "Interval: 0.6918 - 0.7085 with prob: 0.4341\n",
      "Interval: 0.6899 - 0.7103 with prob: 0.5240\n",
      "Interval: 0.6881 - 0.7122 with prob: 0.5833\n",
      "Interval: 0.6862 - 0.7140 with prob: 0.6566\n",
      "Interval: 0.6844 - 0.7159 with prob: 0.7068\n",
      "Interval: 0.6825 - 0.7178 with prob: 0.7662\n",
      "Interval: 0.6807 - 0.7196 with prob: 0.8176\n",
      "Interval: 0.6788 - 0.7215 with prob: 0.8598\n",
      "Interval: 0.6770 - 0.7233 with prob: 0.8938\n",
      "Interval: 0.6751 - 0.7252 with prob: 0.9144\n",
      "Interval: 0.6732 - 0.7270 with prob: 0.9360\n",
      "Interval: 0.6714 - 0.7289 with prob: 0.9504\n",
      "Interval: 0.6695 - 0.7307 with prob: 0.9653\n",
      "Interval: 0.6677 - 0.7326 with prob: 0.9744\n",
      "Interval: 0.6658 - 0.7345 with prob: 0.9806\n",
      "Interval: 0.6640 - 0.7363 with prob: 0.9873\n"
     ]
    }
   ],
   "source": [
    "# construcción iterativa de intervalo de confianza\n",
    "index = likelihoods.argmax()\n",
    "for i in range(1,20):\n",
    "    start_index, end_index = index - i, index + i\n",
    "    area = likelihoods[start_index:end_index+1].sum() * bin_width\n",
    "    range_start, range_end = bin_edges[start_index], bin_edges[end_index + 1]\n",
    "    range_string = '{:.4f} - {:.4f}'.format(range_start, range_end)\n",
    "    print('Interval: {} with prob: {:.4f}'.format(range_string, area))"
   ]
  },
  {
   "cell_type": "markdown",
   "metadata": {},
   "source": [
    "En el resultado se observa que existe un 95% de probabilidad de que el verdadero valor de p caiga entre 0.67-0.72"
   ]
  },
  {
   "cell_type": "code",
   "execution_count": 89,
   "metadata": {},
   "outputs": [
    {
     "name": "stdout",
     "output_type": "stream",
     "text": [
      "Interval: 0.6880 - 0.7141 with prob: 0.9542\n"
     ]
    },
    {
     "data": {
      "image/png": "[encoded data removed]",
      "text/plain": [
       "<Figure size 432x288 with 1 Axes>"
      ]
     },
     "metadata": {
      "needs_background": "light"
     },
     "output_type": "display_data"
    }
   ],
   "source": [
    "# repetición del ejercicio: nro. lanzamientos 5000, nro repeticiones del ejercicio: 100000\n",
    "coin_flips = 5000\n",
    "p_secreto = 0.7\n",
    "nro_rep_exp = 100000\n",
    "resultados = np.random.binomial(coin_flips, p_secreto, nro_rep_exp)/coin_flips\n",
    "\n",
    "# grafico resultados\n",
    "likelihoods, bin_edges, patches = plt.hist(resultados, bins='auto', edgecolor='black', density = True)\n",
    "\n",
    "\n",
    "bin_width = bin_edges[1] - bin_edges[0]\n",
    "index = likelihoods.argmax()\n",
    "k = 34\n",
    "start_index, end_index = index - k , index + k\n",
    "area = likelihoods[start_index:end_index+1].sum() * bin_width\n",
    "range_start, range_end = bin_edges[start_index], bin_edges[end_index + 1]\n",
    "range_string = '{:.4f} - {:.4f}'.format(range_start, range_end)\n",
    "print('Interval: {} with prob: {:.4f}'.format(range_string, area))\n",
    "\n",
    "for i in range(start_index, end_index):\n",
    "    patches[i].set_facecolor('yellow')\n",
    "\n",
    "plt.xlabel('Binned Frequency')\n",
    "plt.ylabel('Relative Likelihood')\n",
    "\n",
    "plt.show()\n"
   ]
  },
  {
   "cell_type": "code",
   "execution_count": 91,
   "metadata": {},
   "outputs": [
    {
     "name": "stdout",
     "output_type": "stream",
     "text": [
      "Interval: 0.6866 - 0.7128 with prob: 0.9558\n"
     ]
    }
   ],
   "source": [
    "# Es relevante ver que la función np.histogram me da likelihood y edges sin salida grafica!\n",
    "# repetición del ejercicio: nro. lanzamientos 5000, nro repeticiones del ejercicio: 100000\n",
    "coin_flips = 5000\n",
    "p_secreto = 0.7\n",
    "nro_rep_exp = 100000\n",
    "resultados = np.random.binomial(coin_flips, p_secreto, nro_rep_exp)/coin_flips\n",
    "\n",
    "# grafico resultados\n",
    "likelihoods, bin_edges = np.histogram(resultados, bins='auto', density = True)\n",
    "\n",
    "\n",
    "bin_width = bin_edges[1] - bin_edges[0]\n",
    "index = likelihoods.argmax()\n",
    "k = 34\n",
    "start_index, end_index = index - k , index + k\n",
    "area = likelihoods[start_index:end_index+1].sum() * bin_width\n",
    "range_start, range_end = bin_edges[start_index], bin_edges[end_index + 1]\n",
    "range_string = '{:.4f} - {:.4f}'.format(range_start, range_end)\n",
    "print('Interval: {} with prob: {:.4f}'.format(range_string, area))"
   ]
  },
  {
   "cell_type": "markdown",
   "metadata": {},
   "source": []
  }
 ],
 "metadata": {
  "interpreter": {
   "hash": "6e7bd28e140fee883747864dbac78c5044bc352839fa50964addd9cf2b8a41bc"
  },
  "kernelspec": {
   "display_name": "Python 3.9.7 ('gen_env')",
   "language": "python",
   "name": "python3"
  },
  "language_info": {
   "codemirror_mode": {
    "name": "ipython",
    "version": 3
   },
   "file_extension": ".py",
   "mimetype": "text/x-python",
   "name": "python",
   "nbconvert_exporter": "python",
   "pygments_lexer": "ipython3",
   "version": "3.9.7"
  },
  "orig_nbformat": 4
 },
 "nbformat": 4,
 "nbformat_minor": 2
}

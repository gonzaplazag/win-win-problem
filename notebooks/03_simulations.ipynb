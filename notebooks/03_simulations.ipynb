{
 "cells": [
  {
   "cell_type": "markdown",
   "metadata": {},
   "source": [
    "# Basic Numpy"
   ]
  },
  {
   "cell_type": "code",
   "execution_count": 2,
   "metadata": {},
   "outputs": [],
   "source": [
    "import numpy as np\n",
    "import matplotlib.pyplot as plt\n",
    "\n",
    "np.random.seed(0)"
   ]
  },
  {
   "cell_type": "code",
   "execution_count": 3,
   "metadata": {},
   "outputs": [
    {
     "data": {
      "text/plain": [
       "5"
      ]
     },
     "execution_count": 3,
     "metadata": {},
     "output_type": "execute_result"
    }
   ],
   "source": [
    "# 1. Simular lanzamiento de un dado equilibrado\n",
    "# la librería clave es numpy\n",
    "die_roll = np.random.randint(1,7)\n",
    "die_roll"
   ]
  },
  {
   "cell_type": "code",
   "execution_count": 4,
   "metadata": {},
   "outputs": [
    {
     "data": {
      "text/plain": [
       "array([1, 1, 0, 1, 1, 1, 1, 1, 1, 1])"
      ]
     },
     "execution_count": 4,
     "metadata": {},
     "output_type": "execute_result"
    }
   ],
   "source": [
    "# 2. Simulo el lanzamiento de una moneda 10 veces\n",
    "coin_flip = np.random.randint(0,2,10)\n",
    "coin_flip"
   ]
  },
  {
   "cell_type": "code",
   "execution_count": 5,
   "metadata": {},
   "outputs": [
    {
     "data": {
      "text/plain": [
       "0.9"
      ]
     },
     "execution_count": 5,
     "metadata": {},
     "output_type": "execute_result"
    }
   ],
   "source": [
    "# 3. A partir de un lanzamiento, obtengo la frecuencia de caras (1)\n",
    "def freq_flip(coin_flip):\n",
    "    return sum(coin_flip)/len(coin_flip)\n",
    "\n",
    "freq_flip(coin_flip)"
   ]
  },
  {
   "cell_type": "code",
   "execution_count": 6,
   "metadata": {},
   "outputs": [],
   "source": [
    "# 4. Observo la frecuencia observada, pero para cada vez más lanzamientos\n",
    "\n",
    "np.random.seed(0)\n",
    "coin_flips = []\n",
    "frequencies = []\n",
    "\n",
    "for _ in range(1000):\n",
    "    coin_flips.append(np.random.randint(0,2))\n",
    "    frequencies.append(freq_flip(coin_flips))"
   ]
  },
  {
   "cell_type": "code",
   "execution_count": 7,
   "metadata": {},
   "outputs": [
    {
     "data": {
      "image/png": "[encoded data removed]",
      "text/plain": [
       "<Figure size 432x288 with 1 Axes>"
      ]
     },
     "metadata": {
      "needs_background": "light"
     },
     "output_type": "display_data"
    }
   ],
   "source": [
    "# 5. Grafico freciencias\n",
    "plt.plot(list(range(1000)),frequencies)\n",
    "plt.axhline(y=0.5, color = \"k\")\n",
    "plt.xlabel('Number of throws')\n",
    "plt.ylabel('Head Frequency')\n",
    "plt.show()"
   ]
  },
  {
   "cell_type": "markdown",
   "metadata": {},
   "source": [
    "# Impl. 1: simulación moneda cargada"
   ]
  },
  {
   "cell_type": "code",
   "execution_count": 12,
   "metadata": {},
   "outputs": [
    {
     "name": "stdout",
     "output_type": "stream",
     "text": [
      "1\n"
     ]
    },
    {
     "data": {
      "text/plain": [
       "6"
      ]
     },
     "execution_count": 12,
     "metadata": {},
     "output_type": "execute_result"
    }
   ],
   "source": [
    "# defino semilla\n",
    "np.random.seed(0)\n",
    "\n",
    "# defino: lanzo moneda 1 vez y me fijo el nro de exitos\n",
    "coin_flip = np.random.binomial(1, 0.7)\n",
    "print(coin_flip)\n",
    "\n",
    "# defino: lanzo moneda 10 veces y me fijo el nro exitos\n",
    "number_coin_flip = 10\n",
    "np.random.binomial(number_coin_flip, 0.7)\n"
   ]
  },
  {
   "cell_type": "markdown",
   "metadata": {},
   "source": [
    "# Intervalos de confianza"
   ]
  },
  {
   "cell_type": "markdown",
   "metadata": {},
   "source": [
    "**Problema**: se lanza una moneda N veces y se computa la frecuencia relativa de los exitos de los lanzamientos. Que nos dice esa frecuencia de p, la probabilidad de obtener cara en 1 lanzamiento?\n",
    "\n",
    "1. Si miramos cada lanzamiento como un problema de Bernoulli (p), lo que es exacto por construcción, la pregunta tiene relación con esta P.\n",
    "\n",
    "2. Tirar muchas veces la moneda y observar la frecuencia relativa de exitos $\\bar{x}$ es un problema tratado por el LGN, que habla de la tendencia en probabilidad de la media de variables aleatorias al valor esperado de esta al aumentar la cantidad valores considerados. En este caso la frecuencia de éxitos tiende al valor de probabilidad $p$. Esto responde la pregunta. \n",
    "\n",
    "**Problema 2**: sabemos que la frecuencia relativa tiende a $p$, pero eso depende en su certeza de la cantidad de lanzamientos. Se puede establecer la certeza para una cantidad dada N de lanzamientos ?"
   ]
  },
  {
   "cell_type": "code",
   "execution_count": 16,
   "metadata": {},
   "outputs": [
    {
     "data": {
      "text/plain": [
       "0.702"
      ]
     },
     "execution_count": 16,
     "metadata": {},
     "output_type": "execute_result"
    }
   ],
   "source": [
    "# si lanzo mil veces, puedo obtener una frecuencia relativa cercana a 0.7\n",
    "coin_flips = 1000\n",
    "p_secreto = 0.7\n",
    "np.random.binomial(coin_flips,p_secreto)/coin_flips"
   ]
  },
  {
   "cell_type": "code",
   "execution_count": 30,
   "metadata": {},
   "outputs": [
    {
     "data": {
      "image/png": "[encoded data removed]",
      "text/plain": [
       "<Figure size 432x288 with 1 Axes>"
      ]
     },
     "metadata": {
      "needs_background": "light"
     },
     "output_type": "display_data"
    }
   ],
   "source": [
    "# podría realizar el ejercicio muchas veces y ver como se comporta esa frecuencia\n",
    "nro_rep_exp = 500\n",
    "resultados = np.random.binomial(coin_flips, p_secreto,nro_rep_exp)/coin_flips\n",
    "\n",
    "# grafico resultados\n",
    "plt.hist(resultados,bins='auto', edgecolor='black')\n",
    "plt.show()"
   ]
  },
  {
   "cell_type": "code",
   "execution_count": 31,
   "metadata": {},
   "outputs": [
    {
     "data": {
      "image/png": "[encoded data removed]",
      "text/plain": [
       "<Figure size 432x288 with 1 Axes>"
      ]
     },
     "metadata": {
      "needs_background": "light"
     },
     "output_type": "display_data"
    }
   ],
   "source": [
    "# miro bins y count de repeticiones\n",
    "\n",
    "counts, bin_edges, _ = plt.hist(resultados,bins='auto', edgecolor='black')"
   ]
  },
  {
   "cell_type": "code",
   "execution_count": 32,
   "metadata": {},
   "outputs": [
    {
     "data": {
      "text/plain": [
       "array([ 3.,  3.,  7., 22., 23., 44., 39., 64., 74., 51., 63., 26., 34.,\n",
       "       19., 15.,  6.,  3.,  4.])"
      ]
     },
     "execution_count": 32,
     "metadata": {},
     "output_type": "execute_result"
    }
   ],
   "source": [
    "counts"
   ]
  },
  {
   "cell_type": "code",
   "execution_count": 33,
   "metadata": {},
   "outputs": [
    {
     "data": {
      "text/plain": [
       "array([0.66      , 0.66455556, 0.66911111, 0.67366667, 0.67822222,\n",
       "       0.68277778, 0.68733333, 0.69188889, 0.69644444, 0.701     ,\n",
       "       0.70555556, 0.71011111, 0.71466667, 0.71922222, 0.72377778,\n",
       "       0.72833333, 0.73288889, 0.73744444, 0.742     ])"
      ]
     },
     "execution_count": 33,
     "metadata": {},
     "output_type": "execute_result"
    }
   ],
   "source": [
    "bin_edges"
   ]
  },
  {
   "cell_type": "code",
   "execution_count": 40,
   "metadata": {},
   "outputs": [
    {
     "name": "stdout",
     "output_type": "stream",
     "text": [
      "The bin for frequency range 0.66 - 0.6645555555555556 contains 3 elements, equivalent to 0.6% of data\n",
      "The bin for frequency range 0.6645555555555556 - 0.6691111111111111 contains 3 elements, equivalent to 0.6% of data\n",
      "The bin for frequency range 0.6691111111111111 - 0.6736666666666666 contains 7 elements, equivalent to 1.4% of data\n",
      "The bin for frequency range 0.6736666666666666 - 0.6782222222222223 contains 22 elements, equivalent to 4.4% of data\n",
      "The bin for frequency range 0.6782222222222223 - 0.6827777777777778 contains 23 elements, equivalent to 4.6% of data\n",
      "The bin for frequency range 0.6827777777777778 - 0.6873333333333334 contains 44 elements, equivalent to 8.8% of data\n",
      "The bin for frequency range 0.6873333333333334 - 0.6918888888888889 contains 39 elements, equivalent to 7.8% of data\n",
      "The bin for frequency range 0.6918888888888889 - 0.6964444444444444 contains 64 elements, equivalent to 12.8% of data\n",
      "The bin for frequency range 0.6964444444444444 - 0.7010000000000001 contains 74 elements, equivalent to 14.8% of data\n",
      "The bin for frequency range 0.7010000000000001 - 0.7055555555555556 contains 51 elements, equivalent to 10.2% of data\n",
      "The bin for frequency range 0.7055555555555556 - 0.7101111111111111 contains 63 elements, equivalent to 12.6% of data\n",
      "The bin for frequency range 0.7101111111111111 - 0.7146666666666667 contains 26 elements, equivalent to 5.2% of data\n",
      "The bin for frequency range 0.7146666666666667 - 0.7192222222222222 contains 34 elements, equivalent to 6.8% of data\n",
      "The bin for frequency range 0.7192222222222222 - 0.7237777777777777 contains 19 elements, equivalent to 3.8% of data\n",
      "The bin for frequency range 0.7237777777777777 - 0.7283333333333333 contains 15 elements, equivalent to 3.0% of data\n",
      "The bin for frequency range 0.7283333333333333 - 0.7328888888888889 contains 6 elements, equivalent to 1.2% of data\n",
      "The bin for frequency range 0.7328888888888889 - 0.7374444444444445 contains 3 elements, equivalent to 0.6% of data\n",
      "The bin for frequency range 0.7374444444444445 - 0.742 contains 4 elements, equivalent to 0.8% of data\n"
     ]
    }
   ],
   "source": [
    "# observo coverage\n",
    "\n",
    "def output_bin_coverage(i):\n",
    "    count = int(counts[i])\n",
    "    range_start, range_end = bin_edges[i], bin_edges[i+1]\n",
    "    range_string = f\"{range_start} - {range_end}\"\n",
    "    print((f\"The bin for frequency range {range_string} contains \"f\"{count} element{'' if count == 1 else 's'}, equivalent to {round(count/nro_rep_exp*100,2)}% of data\"))\n",
    "\n",
    "for i in range(len(bin_edges)-1):\n",
    "    output_bin_coverage(i)"
   ]
  },
  {
   "cell_type": "code",
   "execution_count": null,
   "metadata": {},
   "outputs": [],
   "source": []
  }
 ],
 "metadata": {
  "interpreter": {
   "hash": "6e7bd28e140fee883747864dbac78c5044bc352839fa50964addd9cf2b8a41bc"
  },
  "kernelspec": {
   "display_name": "Python 3.9.7 ('gen_env')",
   "language": "python",
   "name": "python3"
  },
  "language_info": {
   "codemirror_mode": {
    "name": "ipython",
    "version": 3
   },
   "file_extension": ".py",
   "mimetype": "text/x-python",
   "name": "python",
   "nbconvert_exporter": "python",
   "pygments_lexer": "ipython3",
   "version": "3.9.7"
  },
  "orig_nbformat": 4
 },
 "nbformat": 4,
 "nbformat_minor": 2
}

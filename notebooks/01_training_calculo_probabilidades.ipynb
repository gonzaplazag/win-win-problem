{
 "cells": [
  {
   "cell_type": "markdown",
   "metadata": {},
   "source": [
    "# Fundamentos"
   ]
  },
  {
   "cell_type": "markdown",
   "metadata": {},
   "source": [
    "Se busca resolver un problema probabilistico desde sus fundamentos, o sea, definiendo el espacio muestral y su distribución de probabilidad.\n",
    "\n",
    "El **espacio muestral** es el conjunto de resultados posibles de un experimento aleatorio.\n",
    "\n",
    "Se define un **evento** como un subconjunto cualquiera del espacio muestral.\n",
    "\n",
    "La implementación de un evento se realiza mediante la *definición de una condición lógica*, que permita responder elemento a elemento del sample space si este pertenece o no a dicho evento. Dicha condición se implementa en base a la función `event condition(outcome)` y una función que genera el evento explicitamente `get_matching_event(event_condition, sample_space)`.\n",
    "\n"
   ]
  },
  {
   "cell_type": "markdown",
   "metadata": {},
   "source": [
    "# Implementacion 1: problema del lanzamiento de la moneda"
   ]
  },
  {
   "cell_type": "code",
   "execution_count": 2,
   "metadata": {},
   "outputs": [
    {
     "name": "stdout",
     "output_type": "stream",
     "text": [
      "0.5\n"
     ]
    }
   ],
   "source": [
    "# 1. Defino sample space\n",
    "sample_space = {'h','t'}\n",
    "\n",
    "# 2. Defino distribución de probabilidad. Para este caso equiprobable la definición es directa\n",
    "prob = 1/len(sample_space)\n",
    "\n",
    "# 3. Respuesta a probabilidad de obtener cara\n",
    "prob_head = prob\n",
    "\n",
    "# output\n",
    "print(prob_head)"
   ]
  },
  {
   "cell_type": "markdown",
   "metadata": {},
   "source": [
    "La implementación 1 es trivial. Se busca en la proxima implementación responder a cualquier evento definible sobre un sample space."
   ]
  },
  {
   "cell_type": "markdown",
   "metadata": {},
   "source": [
    "# Implementación 2: avance sobre definicion de eventos"
   ]
  },
  {
   "cell_type": "code",
   "execution_count": 6,
   "metadata": {},
   "outputs": [
    {
     "name": "stdout",
     "output_type": "stream",
     "text": [
      "{'Tails', 'Heads'}\n",
      "1.0\n"
     ]
    }
   ],
   "source": [
    "# 1. Definicion de sample spaces\n",
    "sample_space = {'Heads','Tails'}\n",
    "\n",
    "# 2. Definición de event_conditions\n",
    "# funciones booleanas qu indican si el elemento del sample space pertenece a un evento.\n",
    "\n",
    "def is_heads_or_tails(outcome): return outcome in {'Heads', 'Tails'}\n",
    "def is_neither(outcome): return not is_heads_or_tails(outcome)\n",
    "def is_heads(outcome): return outcome == 'Heads'\n",
    "def is_tails(outcome): return outcome == 'Tails'\n",
    "\n",
    "# 3. Se define función generadora de eventos\n",
    "\n",
    "# es una función que, dado el sample space y una event-condition-function, \n",
    "# genera un set de resultados pertenecientes al evento, o sea, el evento en cuanto tal.\n",
    "\n",
    "def get_matching_event(event_condition, sample_space):\n",
    "    return set([outcome for outcome in sample_space if event_condition(outcome)])\n",
    "\n",
    "# ejemplo    \n",
    "print(get_matching_event(is_heads_or_tails, sample_space))\n",
    "\n",
    "# 4. Definición de distribución de probabilidad\n",
    "def compute_prob(event_condition, sample_space):\n",
    "    event = get_matching_event(event_condition, sample_space)\n",
    "    return len(event)/len(sample_space)\n",
    "\n",
    "# ejemplo\n",
    "print(compute_prob(is_heads_or_tails, sample_space))"
   ]
  },
  {
   "cell_type": "markdown",
   "metadata": {},
   "source": [
    "Se avanza sobre la definición de eventos. La próxima implementación define probabilidades para casos no equiprobables."
   ]
  },
  {
   "cell_type": "markdown",
   "metadata": {},
   "source": [
    "# Implementación 3: caso no equiprobable"
   ]
  },
  {
   "cell_type": "code",
   "execution_count": 16,
   "metadata": {},
   "outputs": [
    {
     "name": "stdout",
     "output_type": "stream",
     "text": [
      "{'Tails', 'Heads'}\n"
     ]
    },
    {
     "data": {
      "text/plain": [
       "0.8"
      ]
     },
     "execution_count": 16,
     "metadata": {},
     "output_type": "execute_result"
    }
   ],
   "source": [
    "# 1. Definicion de sample space (caso no equiprobable)\n",
    "\n",
    "# La definición se realiza mediante un diccionario. Se define el value como la frecuencia absoluta en las tiradas totales\n",
    "sample_space = {'Heads' : 4, 'Tails' : 1}\n",
    "sample_space_size = sum(sample_space.values())\n",
    "\n",
    "# 2. Definición de event_conditions\n",
    "# funciones booleanas qu indican si el elemento del sample space pertenece a un evento.\n",
    "\n",
    "def is_heads_or_tails(outcome): return outcome in {'Heads', 'Tails'}\n",
    "def is_neither(outcome): return not is_heads_or_tails(outcome)\n",
    "def is_heads(outcome): return outcome == 'Heads'\n",
    "def is_tails(outcome): return outcome == 'Tails'\n",
    "\n",
    "# 3. Se define función generadora de eventos\n",
    "\n",
    "# es una función que, dado el sample space y una event-condition-function, \n",
    "# genera un set de resultados pertenecientes al evento, o sea, el evento en cuanto tal.\n",
    "\n",
    "# dado que en python se itera sobre las key de un diccionario, esta función está ok.\n",
    "\n",
    "def get_matching_event(event_condition, sample_space):\n",
    "    return set([outcome for outcome in sample_space if event_condition(outcome)])\n",
    "\n",
    "# ejemplo    \n",
    "print(get_matching_event(is_heads_or_tails, sample_space))\n",
    "\n",
    "# 4. Defino distribución de probabilidad\n",
    "# En este caso se redefine la función para permitir casos equiprobables y no equiprobables\n",
    "\n",
    "def compute_prob(event_condition, sample_space):\n",
    "    event = get_matching_event(event_condition, sample_space)\n",
    "\n",
    "    if type(sample_space) == type(set()):\n",
    "        return len(event)/len(sample_space)\n",
    "\n",
    "    else:\n",
    "        event_size = sum([sample_space[outcome] for outcome in event])\n",
    "        total_repetitions = sum(sample_space.values())\n",
    "        return event_size/total_repetitions\n",
    "\n",
    "# ejemplo\n",
    "compute_prob(is_heads, sample_space)"
   ]
  },
  {
   "cell_type": "markdown",
   "metadata": {},
   "source": [
    "La definición del caso no equiprobable se realiza en base a un diccionario y una nueva función de distribución de probabilidad. Se avanza en la siguiente implementación en un caso más complejo."
   ]
  },
  {
   "cell_type": "markdown",
   "metadata": {},
   "source": [
    "# Implementación 4: caso más complejo"
   ]
  },
  {
   "cell_type": "code",
   "execution_count": 23,
   "metadata": {},
   "outputs": [
    {
     "name": "stdout",
     "output_type": "stream",
     "text": [
      "{('girl', 'boy', 'boy', 'girl'), ('boy', 'boy', 'girl', 'boy'), ('girl', 'boy', 'girl', 'girl'), ('girl', 'boy', 'girl', 'boy'), ('boy', 'girl', 'boy', 'boy'), ('boy', 'girl', 'girl', 'girl'), ('girl', 'boy', 'boy', 'boy'), ('boy', 'girl', 'boy', 'girl'), ('boy', 'girl', 'girl', 'boy'), ('girl', 'girl', 'girl', 'girl'), ('girl', 'girl', 'boy', 'girl'), ('boy', 'boy', 'boy', 'girl'), ('girl', 'girl', 'girl', 'boy'), ('boy', 'boy', 'girl', 'girl'), ('girl', 'girl', 'boy', 'boy'), ('boy', 'boy', 'boy', 'boy')}\n",
      "\n",
      " Resultado: 0.375\n"
     ]
    }
   ],
   "source": [
    "# caso: se tienen 4 niños, que pueden ser niños o niñas. La probabilidad de que sea niño o niña es equiprobable. Computar la probabilidad de tener exactamente 2 niñas.\n",
    "\n",
    "# approach: se enfoca como un problema equiprobable. Se define el sample space y la event condition. A partir de esta se calcula la probabilidad\n",
    "\n",
    "# 1. Definición del sample space\n",
    "from itertools import product\n",
    "posib = ['girl','boy']\n",
    "sample_space = (set(product(posib, repeat=4)))\n",
    "\n",
    "# ejemplo\n",
    "print(sample_space)\n",
    "\n",
    "# 2. Definición de event condition\n",
    "# devuelve true en el caso de que el caso tenga dos niños.\n",
    "def has_two_boy(outcome): return len([child for child in outcome if child == 'boy']) == 2\n",
    "\n",
    "# 3. Se define función generadora de eventos\n",
    "# La misma anterior\n",
    "def get_matching_event(event_condition, sample_space):\n",
    "    return set([outcome for outcome in sample_space if event_condition(outcome)])\n",
    "\n",
    "# 4. Defino distribución de probabilidad\n",
    "# la misma anterior\n",
    "\n",
    "def compute_prob(event_condition, sample_space):\n",
    "    event = get_matching_event(event_condition, sample_space)\n",
    "\n",
    "    if type(sample_space) == type(set()):\n",
    "        return len(event)/len(sample_space)\n",
    "\n",
    "    else:\n",
    "        event_size = sum([sample_space[outcome] for outcome in event])\n",
    "        total_repetitions = sum(sample_space.values())\n",
    "        return event_size/total_repetitions\n",
    "\n",
    "# ejemplo\n",
    "print('\\n Resultado: {}'.format(compute_prob(has_two_boy, sample_space)))"
   ]
  },
  {
   "cell_type": "markdown",
   "metadata": {},
   "source": [
    "La implementación muestra una manera diferente de definir el sample space y la event_condition. Además de eso, es un caso equiprobable estándar."
   ]
  },
  {
   "cell_type": "markdown",
   "metadata": {},
   "source": [
    "# Implementación 5"
   ]
  },
  {
   "cell_type": "code",
   "execution_count": 43,
   "metadata": {},
   "outputs": [
    {
     "data": {
      "text/plain": [
       "0.09284979423868313"
      ]
     },
     "execution_count": 43,
     "metadata": {},
     "output_type": "execute_result"
    }
   ],
   "source": [
    "# caso: se tiran 6 dados. Cual es la probabilidad de que el resultado sea mayor que 21?\n",
    "\n",
    "# Approch: El caso es un caso equiprobable estándar, por lo que se sigue el mismo approach de la implementación anterior. Se define apropiadamente el sample space y la event_condition.\n",
    "\n",
    "from itertools import product\n",
    "\n",
    "# 1. Definición del sample space\n",
    "posib = list(range(1,7))\n",
    "sample_space = set(product(posib,repeat=6))\n",
    "\n",
    "# 2. Defino event condition\n",
    "# se plantea la variante mediante lambda function directamente\n",
    "# def sum_up_21(outcome): return sum(outcome) == 21\n",
    "\n",
    "# 3. Defino función generadora de eventos\n",
    "# la misma anterior\n",
    "\n",
    "# 4. Defino calculadora de probabilidad\n",
    "# lamisma anterior\n",
    "\n",
    "# ejemplo\n",
    "# una probabilidad mayor al 9% de que sume 21\n",
    "compute_prob(lambda x: sum(x) == 21, sample_space)"
   ]
  },
  {
   "cell_type": "markdown",
   "metadata": {},
   "source": [
    "La implementación siguiente redefine los samples spaces en términos no equiprobables. Esto es útil en casos de limitaciones en la capacidad de memoria."
   ]
  },
  {
   "cell_type": "markdown",
   "metadata": {},
   "source": [
    "# Implementación 6"
   ]
  },
  {
   "cell_type": "code",
   "execution_count": 48,
   "metadata": {},
   "outputs": [
    {
     "data": {
      "text/plain": [
       "0.09284979423868313"
      ]
     },
     "execution_count": 48,
     "metadata": {},
     "output_type": "execute_result"
    }
   ],
   "source": [
    "from collections import defaultdict\n",
    "\n",
    "# 1. Defino sample space\n",
    "# utilizo el mismo anterior\n",
    "\n",
    "# 1.2. Se realiza una definición de un sample space auxiliar\n",
    "# este espacio muestral lo que hace es generar un espacio de los resultados de las sumas posibles al tirar 6 dados.\n",
    "# además, cada elemento tiene la cantidad de formas de obtener dicho resultado\n",
    "# al ser cada resultado del sample space original equiprobable, estos resultados dan las ponderaciones correctas.\n",
    "sample_space_w = defaultdict(int)\n",
    "\n",
    "for outcome in sample_space:\n",
    "    total = sum(outcome)\n",
    "    sample_space_w[total] += 1\n",
    "\n",
    "# ejemplo \n",
    "sample_space_w\n",
    "\n",
    "# 2. defino event_condition\n",
    "# mediante lambda directamente\n",
    "\n",
    "# 3. defino funcion generadora de evento\n",
    "# la misma anterior\n",
    "\n",
    "# 4. defino calculadora probabilidad\n",
    "# la misma anterior\n",
    "\n",
    "compute_prob(lambda x: x == 21 , sample_space_w)"
   ]
  },
  {
   "cell_type": "markdown",
   "metadata": {},
   "source": [
    "# Consideraciones Finales"
   ]
  },
  {
   "cell_type": "markdown",
   "metadata": {},
   "source": [
    "Se implementa un conjunto de funciones que permiten el cálculo de probabilidades a partir del sample space de un experimento, la función de probabilidad y el evento considerado."
   ]
  },
  {
   "cell_type": "markdown",
   "metadata": {},
   "source": []
  }
 ],
 "metadata": {
  "interpreter": {
   "hash": "6e7bd28e140fee883747864dbac78c5044bc352839fa50964addd9cf2b8a41bc"
  },
  "kernelspec": {
   "display_name": "Python 3.9.7 ('gen_env')",
   "language": "python",
   "name": "python3"
  },
  "language_info": {
   "codemirror_mode": {
    "name": "ipython",
    "version": 3
   },
   "file_extension": ".py",
   "mimetype": "text/x-python",
   "name": "python",
   "nbconvert_exporter": "python",
   "pygments_lexer": "ipython3",
   "version": "3.9.7"
  },
  "orig_nbformat": 4
 },
 "nbformat": 4,
 "nbformat_minor": 2
}
